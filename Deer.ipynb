{
 "cells": [
  {
   "cell_type": "markdown",
   "id": "f6cc1459",
   "metadata": {},
   "source": [
    "# Detecting Multiple Paternity in White-tailed Deer"
   ]
  },
  {
   "cell_type": "markdown",
   "id": "6e8c390e",
   "metadata": {},
   "source": [
    "##### A 2bRAD data analysis pipeline walkthrough"
   ]
  },
  {
   "cell_type": "markdown",
   "id": "3c9ed394",
   "metadata": {},
   "source": [
    "Adam Koller - Luther College '24 - 2022"
   ]
  },
  {
   "cell_type": "markdown",
   "id": "dda45212",
   "metadata": {},
   "source": [
    "---"
   ]
  },
  {
   "cell_type": "markdown",
   "id": "fa6f29cb",
   "metadata": {},
   "source": [
    "### Importing libraries"
   ]
  },
  {
   "cell_type": "code",
   "execution_count": 3,
   "id": "784ea38a",
   "metadata": {},
   "outputs": [],
   "source": [
    "import rpy2\n",
    "import os\n",
    "import numpy as np\n",
    "import pandas as pd\n",
    "import matplotlib.pyplot as plt\n",
    "import seaborn as sns\n",
    "import sys\n",
    "import scipy.stats"
   ]
  },
  {
   "cell_type": "code",
   "execution_count": 4,
   "id": "3b421f8c",
   "metadata": {},
   "outputs": [
    {
     "data": {
      "text/html": [
       "\n",
       "        <span>StrVector with 4 elements.</span>\n",
       "        <table>\n",
       "        <tbody>\n",
       "          <tr>\n",
       "          \n",
       "            <td>\n",
       "            '/home/LC/...\n",
       "            </td>\n",
       "          \n",
       "            <td>\n",
       "            '/usr/loca...\n",
       "            </td>\n",
       "          \n",
       "            <td>\n",
       "            '/usr/lib/...\n",
       "            </td>\n",
       "          \n",
       "            <td>\n",
       "            '/usr/lib/...\n",
       "            </td>\n",
       "          \n",
       "          </tr>\n",
       "        </tbody>\n",
       "        </table>\n",
       "        "
      ],
      "text/plain": [
       "<rpy2.robjects.vectors.StrVector object at 0x7fbd28bc5140> [RTYPES.STRSXP]\n",
       "R classes: ('character',)\n",
       "['/home/LC/..., '/usr/loca..., '/usr/lib/..., '/usr/lib/...]"
      ]
     },
     "execution_count": 4,
     "metadata": {},
     "output_type": "execute_result"
    }
   ],
   "source": [
    "%load_ext rpy2.ipython\n",
    "%R .libPaths(\"~/Programs/R/x86_64-pc-linux-gnu-library/4.1\")"
   ]
  },
  {
   "cell_type": "code",
   "execution_count": 5,
   "id": "4e289df2",
   "metadata": {},
   "outputs": [],
   "source": [
    "%%capture importLibraries\n",
    "%%R\n",
    "library(ggplot2)\n",
    "library(ggrepel)\n",
    "library(sets)\n",
    "library(dplyr)"
   ]
  },
  {
   "cell_type": "code",
   "execution_count": 133,
   "id": "303c8ecf",
   "metadata": {},
   "outputs": [],
   "source": [
    "# Changing working directory (set equal to project folder)\n",
    "os.environ['WORKDIR'] = './DeerProject'"
   ]
  },
  {
   "cell_type": "markdown",
   "id": "61a5cb3a",
   "metadata": {},
   "source": [
    "### Adding software to path"
   ]
  },
  {
   "cell_type": "code",
   "execution_count": 134,
   "id": "6c15cbbe",
   "metadata": {},
   "outputs": [],
   "source": [
    "path = '/bin:/usr/local/sbin:/usr/local/bin:/usr/sbin:/usr/bin:/opt/anaconda3/bin' # <- insert current paths into this string\n",
    "path += ':/home/LC/kollad01/Programs/2bRAD_denovo' # Enter path to directory with scripts\n",
    "path += ':/home/LC/kollad01/.local/bin'\n",
    "path += ':home/LC/kollad01/Programs/bowtie2-2.4.5-mingw-x86_64'\n",
    "path += ':home/LC/kollad01/Programs/samtools-1.15.1'\n",
    "path += ':/home/LC/kollad01/Programs/angsd'\n",
    "path += ':/home/LC/kollad01/Programs/angsd/NgsRelate'\n",
    "path += ':/home/LC/kollad01/Programs/htslib'\n",
    "path += ':/home/LC/kollad01/Programs/R/x86_64-pc-linux-gnu-library/4.1'\n",
    "os.environ['PATH'] = path"
   ]
  },
  {
   "cell_type": "code",
   "execution_count": 135,
   "id": "d2e99604",
   "metadata": {},
   "outputs": [
    {
     "name": "stdout",
     "output_type": "stream",
     "text": [
      "/bin:/usr/local/sbin:/usr/local/bin:/usr/sbin:/usr/bin:/opt/anaconda3/bin:/home/LC/kollad01/Programs/2bRAD_denovo:/home/LC/kollad01/.local/bin:home/LC/kollad01/Programs/bowtie2-2.4.5-mingw-x86_64:home/LC/kollad01/Programs/samtools-1.15.1:/home/LC/kollad01/Programs/angsd:/home/LC/kollad01/Programs/angsd/NgsRelate:/home/LC/kollad01/Programs/htslib:/home/LC/kollad01/Programs/R/x86_64-pc-linux-gnu-library/4.1\n"
     ]
    }
   ],
   "source": [
    "print(os.environ['PATH'])"
   ]
  },
  {
   "cell_type": "markdown",
   "id": "08950cd1",
   "metadata": {},
   "source": [
    "### Understanding Data Structure"
   ]
  },
  {
   "cell_type": "markdown",
   "id": "be197a69",
   "metadata": {},
   "source": [
    "200 samples (195 unique, 5 replicates) split among 17 .fastq files."
   ]
  },
  {
   "cell_type": "code",
   "execution_count": 138,
   "id": "bf94c569",
   "metadata": {},
   "outputs": [
    {
     "name": "stdout",
     "output_type": "stream",
     "text": [
      "@J00102:28:HTWWLBBXX:1:1101:2747:1050 1:N:0:NTCACG\n",
      "NGAACCGGCACAACCCAGCGAGGCACCTGCCTTTGGCCAGCCTCACAGAT\n",
      "+\n",
      "#AAFFJJJJJJJJJJJJJJJJJJAJJJJJJJJFJJJJJJ<JJJJJJJJAJ\n",
      "@J00102:28:HTWWLBBXX:1:1101:3072:1050 1:N:0:NTCACG\n",
      "NGAACCAGGACGCCGATGGCAACATCGTCGAACTGCGTTGCTGTGAAGAT\n",
      "+\n",
      "#AA<FFFFJFJJJJJJJJJJAFJJJJJJJJJJJAJJJJFJF-FJJJFJFF\n",
      "@J00102:28:HTWWLBBXX:1:1101:3579:1050 1:N:0:NTCACG\n",
      "NGAACCGGCTGGCCAAGGGCAGGGGCCTCGCTGGGTTGTGCCTCAGAGAT\n"
     ]
    }
   ],
   "source": [
    "%%bash\n",
    "head Data/ILL-RAD01_S1_L001_R1_001.fastq"
   ]
  },
  {
   "cell_type": "markdown",
   "id": "1a90d419",
   "metadata": {},
   "source": [
    "50bp chunks: N(18) CGA N(6) TGC N(12) 4bp barcode"
   ]
  },
  {
   "cell_type": "markdown",
   "id": "543fc027",
   "metadata": {},
   "source": [
    "### Counting raw reads"
   ]
  },
  {
   "cell_type": "code",
   "execution_count": 12,
   "id": "ead46dd0",
   "metadata": {},
   "outputs": [],
   "source": [
    "barcodes = ['GTGT','AGAC','ACCA','AGTG','CATC','GTGA','TCAG','GCTT','CTAC','TGTC','TCAC','GACT'] # <- Our barcodes"
   ]
  },
  {
   "cell_type": "code",
   "execution_count": 81,
   "id": "a81fd5ff",
   "metadata": {},
   "outputs": [],
   "source": [
    "# Function to count reads for each barcode w/wo bcg1 enzyme site. Input directory path with .fastq files, list of barcodes, \n",
    "# and bcg1 TRUE/FALSE\n",
    "def count(directoryName, barcodes, bcg1Bool):  \n",
    "    barCounts = {'Unmatched':0} # initialize dictionary\n",
    "    for fileName in os.listdir(directoryName): # iterate through list of file paths\n",
    "        if fileName.endswith(\".fastq\"): # ignore files not ending in .fastq\n",
    "            fileID = fileName.split(\"_\")[1] # ID contains well info used to distinguish samples\n",
    "            file = open(directoryName+fileName, 'r') # open file\n",
    "            count = 0 # count variable to ready every 4 lines (lines with sequence)\n",
    "            for line in file: # iterate through lines of file\n",
    "                if count%4 == 1: # \"every 4th line\"\n",
    "                    enzymeSite = line[18:30] # This is the index of the bcg1 enzyme site\n",
    "                    if bcg1Bool: # If we restrict counting to sequences containing bcg1 site\n",
    "                        if (enzymeSite[0:3] == 'CGA' and enzymeSite[9:12] == 'TGC') \\ # bcg1 sequence\n",
    "                        or (enzymeSite[0:3] == 'GCA' and enzymeSite[9:12] == 'TCG'): # or its reverse complement\n",
    "                            barID = fileID + \"_\" + line[42:46] #42:46 is the position of our 4bp barcode\n",
    "                            try:\n",
    "                                barCounts[barID] += 1 # increase count in dictionary with that barcode\n",
    "                            except:\n",
    "                                if line[42:46] in barcodes: # make sure it is a valid barcode                      \n",
    "                                    barCounts[barID] = 1 # Otherwise add barcode to dictionary with count 1\n",
    "                                else:\n",
    "                                    barCounts['Unmatched'] += 1 # Invalid barcodes are thrown in unmatched category\n",
    "                                    \n",
    "                    # Same thing as above but for case where we are not counting those with bcg1 site\n",
    "                    else:\n",
    "                        barID = fileID + \"_\" + line[42:46] \n",
    "                        try:\n",
    "                            barCounts[barID] += 1\n",
    "                        except:\n",
    "                            if line[42:46] in barcodes:                       \n",
    "                                barCounts[barID] = 1\n",
    "                            else:\n",
    "                                barCounts['Unmatched'] += 1\n",
    "                count += 1\n",
    "    def writeCountstoFile(outputName):  # function to write count data to csv file\n",
    "        reads = []\n",
    "        for ID in barCounts.keys():\n",
    "            reads.append({\"ID\":ID,outputName+\"_count\":barCounts[ID]})\n",
    "        reads = pd.DataFrame.from_dict(reads)\n",
    "        reads.to_csv('./Output/'+outputName+'_counts.csv', index=False)\n",
    "        \n",
    "    if bcg1Bool: # Naming csv files properly \n",
    "        writeCountstoFile('bcg1')\n",
    "    else:\n",
    "        writeCountstoFile('raw')"
   ]
  },
  {
   "cell_type": "code",
   "execution_count": 75,
   "id": "f84489ea",
   "metadata": {},
   "outputs": [
    {
     "name": "stdout",
     "output_type": "stream",
     "text": [
      "ILL-RAD09_S9_L001_R1_001.fastq\n",
      "ILL-RAD06_S6_L001_R1_001.fastq\n",
      "ILL-RAD17_S17_L001_R1_001.fastq\n",
      "ILL-RAD11_S11_L001_R1_001.fastq\n",
      "ILL-RAD10_S10_L001_R1_001.fastq\n",
      "ILL-RAD02_S2_L001_R1_001.fastq\n",
      "ILL-RAD13_S13_L001_R1_001.fastq\n",
      "ILL-RAD03_S3_L001_R1_001.fastq\n",
      "ILL-RAD15_S15_L001_R1_001.fastq\n",
      "ILL-RAD08_S8_L001_R1_001.fastq\n",
      "ILL-RAD04_S4_L001_R1_001.fastq\n",
      "ILL-RAD16_S16_L001_R1_001.fastq\n",
      "ILL-RAD05_S5_L001_R1_001.fastq\n",
      "ILL-RAD07_S7_L001_R1_001.fastq\n",
      "ILL-RAD01_S1_L001_R1_001.fastq\n",
      "ILL-RAD14_S14_L001_R1_001.fastq\n",
      "ILL-RAD12_S12_L001_R1_001.fastq\n",
      "CPU times: user 5min 57s, sys: 40.5 s, total: 6min 38s\n",
      "Wall time: 6min 4s\n"
     ]
    }
   ],
   "source": [
    "%%time\n",
    "count('Data/',barcodes, False)"
   ]
  },
  {
   "cell_type": "code",
   "execution_count": 76,
   "id": "ec5f518f",
   "metadata": {},
   "outputs": [
    {
     "name": "stdout",
     "output_type": "stream",
     "text": [
      "343721394 total reads (including unmatched)\n"
     ]
    }
   ],
   "source": [
    "raw_reads = pd.read_csv('Output/raw_counts.csv')\n",
    "print(sum(raw_reads['raw_count']), 'total reads (including unmatched)')"
   ]
  },
  {
   "cell_type": "code",
   "execution_count": 25,
   "id": "0978186b",
   "metadata": {},
   "outputs": [],
   "source": [
    "def describeCounts(fileName): # Function to give basic statistics for count data\n",
    "    raw_count = pd.read_csv(fileName) # Read in file\n",
    "    omitted = ['S17_CTAC','S17_TGTC','S17_TCAC','S17_GACT','Unmatched'] # Count function created barcodes that are not samples\n",
    "    raw_count.drop(raw_count[raw_count['ID'].isin(omitted)].index, inplace =True) # Exclude previous barcodes\n",
    "    sns.histplot(data=raw_count, x = raw_count.columns[1], fill=False) # Create histogram with seaborn\n",
    "    plt.axvline(raw_count.iloc[:,1].median(), color='green', linestyle='dashed') # median vertical line\n",
    "    plt.axvline(raw_count.iloc[:,1].mean(), color='red', linestyle='dashed') # mean vertical line\n",
    "    print(raw_count.describe().round()) # show stats"
   ]
  },
  {
   "cell_type": "code",
   "execution_count": 78,
   "id": "5b24e74c",
   "metadata": {},
   "outputs": [
    {
     "name": "stdout",
     "output_type": "stream",
     "text": [
      "       raw_count\n",
      "count      200.0\n",
      "mean   1659439.0\n",
      "std    1431810.0\n",
      "min      12717.0\n",
      "25%     739973.0\n",
      "50%    1311156.0\n",
      "75%    1976969.0\n",
      "max    9650018.0\n"
     ]
    },
    {
     "data": {
      "image/png": "[encoded data removed]",
      "text/plain": [
       "<Figure size 432x288 with 1 Axes>"
      ]
     },
     "metadata": {
      "needs_background": "light"
     },
     "output_type": "display_data"
    }
   ],
   "source": [
    "describeCounts(\"Output/raw_counts.csv\")"
   ]
  },
  {
   "cell_type": "code",
   "execution_count": 79,
   "id": "ff2c1003",
   "metadata": {},
   "outputs": [
    {
     "name": "stdout",
     "output_type": "stream",
     "text": [
      "ILL-RAD09_S9_L001_R1_001.fastq\n",
      "ILL-RAD06_S6_L001_R1_001.fastq\n",
      "ILL-RAD17_S17_L001_R1_001.fastq\n",
      "ILL-RAD11_S11_L001_R1_001.fastq\n",
      "ILL-RAD10_S10_L001_R1_001.fastq\n",
      "ILL-RAD02_S2_L001_R1_001.fastq\n",
      "ILL-RAD13_S13_L001_R1_001.fastq\n",
      "ILL-RAD03_S3_L001_R1_001.fastq\n",
      "ILL-RAD15_S15_L001_R1_001.fastq\n",
      "ILL-RAD08_S8_L001_R1_001.fastq\n",
      "ILL-RAD04_S4_L001_R1_001.fastq\n",
      "ILL-RAD16_S16_L001_R1_001.fastq\n",
      "ILL-RAD05_S5_L001_R1_001.fastq\n",
      "ILL-RAD07_S7_L001_R1_001.fastq\n",
      "ILL-RAD01_S1_L001_R1_001.fastq\n",
      "ILL-RAD14_S14_L001_R1_001.fastq\n",
      "ILL-RAD12_S12_L001_R1_001.fastq\n",
      "CPU times: user 7min 23s, sys: 46.6 s, total: 8min 10s\n",
      "Wall time: 7min 30s\n"
     ]
    }
   ],
   "source": [
    "%%time\n",
    "count('./Data/',barcodes, True)"
   ]
  },
  {
   "cell_type": "code",
   "execution_count": 80,
   "id": "17b8f8f7",
   "metadata": {},
   "outputs": [
    {
     "name": "stdout",
     "output_type": "stream",
     "text": [
      "       bcg1_count\n",
      "count       200.0\n",
      "mean    1621326.0\n",
      "std     1401299.0\n",
      "min       11924.0\n",
      "25%      716104.0\n",
      "50%     1284612.0\n",
      "75%     1914270.0\n",
      "max     9452617.0\n"
     ]
    },
    {
     "data": {
      "image/png": "[encoded data removed]",
      "text/plain": [
       "<Figure size 432x288 with 1 Axes>"
      ]
     },
     "metadata": {
      "needs_background": "light"
     },
     "output_type": "display_data"
    }
   ],
   "source": [
    "describeCounts(\"Output/bcg1_counts.csv\")"
   ]
  },
  {
   "cell_type": "markdown",
   "id": "9e1f206c",
   "metadata": {},
   "source": [
    "### Splitting by barcode / Removing PCR duplicates"
   ]
  },
  {
   "cell_type": "markdown",
   "id": "d3472a27",
   "metadata": {},
   "source": [
    "**note.** We changed the variable *minBCcount* from 100000 to 100 in the *trim2bRAD_2barcodes_dedup_N.pl* script found in Mikhael Matz's 2b_RAD Denovo scripts cloned from github. We did this in order to preserve our samples which contained less than 100000 reads."
   ]
  },
  {
   "cell_type": "code",
   "execution_count": 7,
   "id": "902f8e9c",
   "metadata": {},
   "outputs": [
    {
     "name": "stdout",
     "output_type": "stream",
     "text": [
      "CPU times: user 40.2 ms, sys: 25.7 ms, total: 65.9 ms\n",
      "Wall time: 30min 22s\n"
     ]
    }
   ],
   "source": [
    "%%time\n",
    "%%capture dedupLog\n",
    "%%bash\n",
    "cd Data\n",
    "2bRAD_trim_launch_dedup_N.pl .fastq > trims\n",
    "bash trims"
   ]
  },
  {
   "cell_type": "code",
   "execution_count": 8,
   "id": "cf74a78a",
   "metadata": {},
   "outputs": [],
   "source": [
    "# Saving output from previous cell to file\n",
    "f = open(\"./Output/dedupLog.txt\", \"w\")\n",
    "for line in dedupLog.stdout.split('\\n'):\n",
    "    f.write(line+'\\n')\n",
    "f.close()"
   ]
  },
  {
   "cell_type": "markdown",
   "id": "55b52e8d",
   "metadata": {},
   "source": [
    "Since we changed *minBCcount*, we created demultiplexed files for barcodes not associated with one of our samples (junk files). The next three cells are removing those files."
   ]
  },
  {
   "cell_type": "code",
   "execution_count": 15,
   "id": "ae0c14a6",
   "metadata": {},
   "outputs": [],
   "source": [
    "def removeJunkFiles(directory, Barcodes):\n",
    "    files = os.listdir(directory)\n",
    "    for fileName in files:\n",
    "        try:\n",
    "            ext = fileName.split(\"_\")[5]\n",
    "        except:\n",
    "            pass\n",
    "        else:\n",
    "            bcode = ext[0:4]\n",
    "            if bcode not in Barcodes:\n",
    "                os.remove(directory + fileName)"
   ]
  },
  {
   "cell_type": "code",
   "execution_count": 16,
   "id": "46181111",
   "metadata": {},
   "outputs": [],
   "source": [
    "removeJunkFiles('Data/', barcodes)"
   ]
  },
  {
   "cell_type": "markdown",
   "id": "1ace4acc",
   "metadata": {},
   "source": [
    "Removing files that the previous step missed..."
   ]
  },
  {
   "cell_type": "code",
   "execution_count": 18,
   "id": "441614de",
   "metadata": {},
   "outputs": [],
   "source": [
    "%%bash\n",
    "cd Data\n",
    "rm ILL-RAD17_S17_L001_R1_001_CTAC.tr0\n",
    "rm ILL-RAD17_S17_L001_R1_001_TGTC.tr0\n",
    "rm ILL-RAD17_S17_L001_R1_001_TCAC.tr0\n",
    "rm ILL-RAD17_S17_L001_R1_001_GACT.tr0"
   ]
  },
  {
   "cell_type": "markdown",
   "id": "6ecd85eb",
   "metadata": {},
   "source": [
    "Check that the number of .tr0 files matches number of samples."
   ]
  },
  {
   "cell_type": "code",
   "execution_count": 20,
   "id": "c0cc81bb",
   "metadata": {},
   "outputs": [
    {
     "name": "stdout",
     "output_type": "stream",
     "text": [
      "200\n"
     ]
    }
   ],
   "source": [
    "%%bash\n",
    "cd Data\n",
    "ls *.tr0 | wc -l"
   ]
  },
  {
   "cell_type": "markdown",
   "id": "fe8210f7",
   "metadata": {},
   "source": [
    "### Counting reads after removal of PCR duplicates"
   ]
  },
  {
   "cell_type": "code",
   "execution_count": 23,
   "id": "a6486f1c",
   "metadata": {},
   "outputs": [
    {
     "name": "stdout",
     "output_type": "stream",
     "text": [
      "CPU times: user 4.79 ms, sys: 1.26 ms, total: 6.05 ms\n",
      "Wall time: 4.13 s\n"
     ]
    }
   ],
   "source": [
    "%%time\n",
    "%%bash\n",
    ">./Output/post_dedup_counts.csv\n",
    "echo \"ID,post_dedup_count\" >> ./Output/post_dedup_counts.csv;\n",
    "cd Data\n",
    "for FILE in *.tr0;\n",
    "do\n",
    "    COUNT=`wc -l $FILE`;\n",
    "    IFS=' '\n",
    "    read -a strarr <<< \"$COUNT\"\n",
    "    COUNT=${strarr[0]}\n",
    "    let COUNT=$COUNT/4\n",
    "    IFS='_' read -ra strarr2 <<< $FILE\n",
    "    ID1=${strarr2[1]}\n",
    "    ID2=${strarr2[-1]}\n",
    "    ID2=\"${ID2:0:4}\" \n",
    "    OUT=$ID1\"_\"$ID2\",\"$COUNT\n",
    "    echo $OUT >> ../Output/post_dedup_counts.csv;\n",
    "done\n",
    "    "
   ]
  },
  {
   "cell_type": "code",
   "execution_count": 26,
   "id": "ce722fb7",
   "metadata": {},
   "outputs": [
    {
     "name": "stdout",
     "output_type": "stream",
     "text": [
      "       post_dedup_count\n",
      "count             200.0\n",
      "mean           296931.0\n",
      "std            166819.0\n",
      "min              5285.0\n",
      "25%            190888.0\n",
      "50%            262810.0\n",
      "75%            382353.0\n",
      "max           1358318.0\n"
     ]
    },
    {
     "data": {
      "image/png": "[encoded data removed]",
      "text/plain": [
       "<Figure size 432x288 with 1 Axes>"
      ]
     },
     "metadata": {
      "needs_background": "light"
     },
     "output_type": "display_data"
    }
   ],
   "source": [
    "describeCounts('Output/post_dedup_counts.csv')"
   ]
  },
  {
   "cell_type": "markdown",
   "id": "6863b93e",
   "metadata": {},
   "source": [
    "### Quality filtering"
   ]
  },
  {
   "cell_type": "markdown",
   "id": "be7bec1a",
   "metadata": {},
   "source": [
    "Trimming low-quality base pairs at the end of reads with Cutadapt."
   ]
  },
  {
   "cell_type": "code",
   "execution_count": 37,
   "id": "8dce9cb0",
   "metadata": {},
   "outputs": [
    {
     "name": "stdout",
     "output_type": "stream",
     "text": [
      "CPU times: user 5.07 ms, sys: 5.53 ms, total: 10.6 ms\n",
      "Wall time: 3min 16s\n"
     ]
    }
   ],
   "source": [
    "%%time\n",
    "%%bash\n",
    "cd Data\n",
    "> trims\n",
    "for file in *.tr0; do\n",
    "echo \"cutadapt -q 15,15 -m 25 -o ${file/.tr0/}.trim $file > ${file}.trimlog.txt\" >> qFilt; done\n",
    "bash qFilt"
   ]
  },
  {
   "cell_type": "markdown",
   "id": "a29ec708",
   "metadata": {},
   "source": [
    "Check that we have expected number of .trim files."
   ]
  },
  {
   "cell_type": "code",
   "execution_count": 39,
   "id": "edb5581a",
   "metadata": {},
   "outputs": [
    {
     "name": "stdout",
     "output_type": "stream",
     "text": [
      "200\n"
     ]
    }
   ],
   "source": [
    "%%bash\n",
    "cd Data\n",
    "ls *.trim | wc -l"
   ]
  },
  {
   "cell_type": "markdown",
   "id": "25b27fd0",
   "metadata": {},
   "source": [
    "### Counting reads after quality filtering"
   ]
  },
  {
   "cell_type": "code",
   "execution_count": 40,
   "id": "e849670b",
   "metadata": {},
   "outputs": [
    {
     "name": "stdout",
     "output_type": "stream",
     "text": [
      "CPU times: user 3.31 ms, sys: 2.45 ms, total: 5.75 ms\n",
      "Wall time: 4.13 s\n"
     ]
    }
   ],
   "source": [
    "%%time\n",
    "%%bash\n",
    ">./Output/post_filt_counts.csv\n",
    "echo \"ID,post_filt_count\" >> ./Output/post_filt_counts.csv;\n",
    "cd Data\n",
    "for FILE in *.trim;\n",
    "do\n",
    "    COUNT=`wc -l $FILE`;\n",
    "    IFS=' '\n",
    "    read -a strarr <<< \"$COUNT\"\n",
    "    COUNT=${strarr[0]}\n",
    "    let COUNT=$COUNT/4\n",
    "    IFS='_' read -ra strarr2 <<< $FILE\n",
    "    ID1=${strarr2[1]}\n",
    "    ID2=${strarr2[-1]}\n",
    "    ID2=\"${ID2:0:4}\" \n",
    "    OUT=$ID1\"_\"$ID2\",\"$COUNT\n",
    "    echo $OUT >> ../Output/post_filt_counts.csv;\n",
    "done"
   ]
  },
  {
   "cell_type": "code",
   "execution_count": 42,
   "id": "e92735a3",
   "metadata": {},
   "outputs": [
    {
     "name": "stdout",
     "output_type": "stream",
     "text": [
      "       post_filt_count\n",
      "count            200.0\n",
      "mean          296931.0\n",
      "std           166819.0\n",
      "min             5285.0\n",
      "25%           190888.0\n",
      "50%           262810.0\n",
      "75%           382353.0\n",
      "max          1358318.0\n"
     ]
    },
    {
     "data": {
      "image/png": "[encoded data removed]",
      "text/plain": [
       "<Figure size 432x288 with 1 Axes>"
      ]
     },
     "metadata": {
      "needs_background": "light"
     },
     "output_type": "display_data"
    }
   ],
   "source": [
    "describeCounts('Output/post_filt_counts.csv')"
   ]
  },
  {
   "cell_type": "code",
   "execution_count": 279,
   "id": "6de2bfd5",
   "metadata": {},
   "outputs": [
    {
     "name": "stdout",
     "output_type": "stream",
     "text": [
      "@J00102:28:HTWWLBBXX:1:1101:10216:1086 1:N:0:NTAGAG bcd=GCTT\n",
      "AGCGCGTAAACCGCATCGGTATCGTATAGCGTGGCG\n",
      "+\n",
      "<FJJAJJJJJJJJJJJJJJAJJJJJJJAFFJJJF<J\n",
      "@J00102:28:HTWWLBBXX:1:1101:19532:1086 1:N:0:NTAGAG bcd=GCTT\n",
      "CAGATCCAGACTGCAAACCTATCGTACTCGTTGGCA\n",
      "+\n",
      "FFAFJJJJJJJJFJJJJJFFJJJJJJJJJJJJJ<JF\n",
      "@J00102:28:HTWWLBBXX:1:1101:26991:1103 1:N:0:NTAGAG bcd=GCTT\n",
      "GACAGCTGGCTGGCAGGCGCCTCGGCCTCCGGTTCG\n"
     ]
    }
   ],
   "source": [
    "%%bash\n",
    "head Data/ILL-RAD17_S17_L001_R1_001_GCTT.trim"
   ]
  },
  {
   "cell_type": "markdown",
   "id": "4ea10277",
   "metadata": {},
   "source": [
    "### Building reference genome"
   ]
  },
  {
   "cell_type": "markdown",
   "id": "2d1c6693",
   "metadata": {},
   "source": [
    "*Odocoileus virginianus* reference genome from the University of Illinois: https://www.ncbi.nlm.nih.gov/data-hub/genome/GCA_023699985.1/"
   ]
  },
  {
   "cell_type": "markdown",
   "id": "ba6cddfa",
   "metadata": {},
   "source": [
    "Copy all of the .fna sequence files (one for each chromosome) to a new directory 'genome'"
   ]
  },
  {
   "cell_type": "code",
   "execution_count": 48,
   "id": "a2f87257",
   "metadata": {},
   "outputs": [
    {
     "name": "stderr",
     "output_type": "stream",
     "text": [
      "mkdir: cannot create directory ‘genome’: File exists\n"
     ]
    },
    {
     "name": "stdout",
     "output_type": "stream",
     "text": [
      "2bRAD_denovo\n",
      "Data\n",
      "Deer.ipynb\n",
      "genome\n",
      "ncbi_dataset\n",
      "Output\n"
     ]
    }
   ],
   "source": [
    "%%bash\n",
    "mkdir genome \n",
    "cd ncbi_dataset/data/GCA_023699985.1\n",
    "cp *.fna ../../../genome"
   ]
  },
  {
   "cell_type": "markdown",
   "id": "c123136a",
   "metadata": {},
   "source": [
    "Remove sex chromosomes and unplaced scaffolds from the genome directory"
   ]
  },
  {
   "cell_type": "code",
   "execution_count": 49,
   "id": "41ef6ebe",
   "metadata": {},
   "outputs": [],
   "source": [
    "%%bash\n",
    "rm genome/chrX.fna\n",
    "rm genome/chrY.fna\n",
    "rm genome/unplaced.scaf.fna"
   ]
  },
  {
   "cell_type": "markdown",
   "id": "93ff0d5d",
   "metadata": {},
   "source": [
    "Concatenate chromosomes together into a single genome file. Remove chromosome files."
   ]
  },
  {
   "cell_type": "code",
   "execution_count": 51,
   "id": "9b273472",
   "metadata": {},
   "outputs": [],
   "source": [
    "%%bash\n",
    "shopt -s extglob\n",
    "cd genome\n",
    "cat *.fna > genome.fasta\n",
    "rm !(\"genome.fasta\")"
   ]
  },
  {
   "cell_type": "markdown",
   "id": "c4ea3483",
   "metadata": {},
   "source": [
    "Use bowtie2, samtools, and picard to create genome index files. See more on these packages: http://bowtie-bio.sourceforge.net/bowtie2/manual.shtml, http://www.htslib.org/doc/#manual-pages, https://broadinstitute.github.io/picard/."
   ]
  },
  {
   "cell_type": "code",
   "execution_count": 59,
   "id": "f73bea01",
   "metadata": {},
   "outputs": [
    {
     "name": "stdout",
     "output_type": "stream",
     "text": [
      "CPU times: user 124 ms, sys: 53.4 ms, total: 178 ms\n",
      "Wall time: 1h 33min 49s\n"
     ]
    }
   ],
   "source": [
    "%%time\n",
    "%%capture genomeBuild\n",
    "%%bash\n",
    "cd genome\n",
    "bowtie2-build genome.fasta genome.fasta"
   ]
  },
  {
   "cell_type": "code",
   "execution_count": 8,
   "id": "83dd8bcc",
   "metadata": {},
   "outputs": [
    {
     "name": "stdout",
     "output_type": "stream",
     "text": [
      "CPU times: user 6.26 ms, sys: 430 µs, total: 6.69 ms\n",
      "Wall time: 9.25 s\n"
     ]
    }
   ],
   "source": [
    "%%time\n",
    "%%bash\n",
    "cd genome\n",
    "samtools faidx genome.fasta"
   ]
  },
  {
   "cell_type": "code",
   "execution_count": 16,
   "id": "3607a3d9",
   "metadata": {},
   "outputs": [
    {
     "name": "stdout",
     "output_type": "stream",
     "text": [
      "CPU times: user 8.03 ms, sys: 0 ns, total: 8.03 ms\n",
      "Wall time: 7.34 ms\n"
     ]
    }
   ],
   "source": [
    "%%time\n",
    "%%capture picardOut\n",
    "%%bash\n",
    "# NEED JAVA INSTALLED\n",
    "#java -jar picard.jar CreateSequenceDictionary R=genome/genome.fasta O=genome/genome.dict"
   ]
  },
  {
   "cell_type": "markdown",
   "id": "efbc64d1",
   "metadata": {},
   "source": [
    "### Aligning reads to the reference genome"
   ]
  },
  {
   "cell_type": "markdown",
   "id": "01bc2e9e",
   "metadata": {},
   "source": [
    "Aligning reads to the reference genome. %%capture keeps record of the standard output which contains useful data on allignment rates."
   ]
  },
  {
   "cell_type": "code",
   "execution_count": 18,
   "id": "e7771537",
   "metadata": {},
   "outputs": [
    {
     "name": "stdout",
     "output_type": "stream",
     "text": [
      "CPU times: user 157 ms, sys: 76.6 ms, total: 233 ms\n",
      "Wall time: 1h 21min 3s\n"
     ]
    }
   ],
   "source": [
    "%%time\n",
    "%%capture allignmentRates\n",
    "%%bash\n",
    "cd Data\n",
    "2bRAD_bowtie2_launch.pl '\\.trim$' ../genome/genome.fasta > maps\n",
    "bash maps"
   ]
  },
  {
   "cell_type": "markdown",
   "id": "7f3064f1",
   "metadata": {},
   "source": [
    "Saving standard output from read alligning to a file."
   ]
  },
  {
   "cell_type": "code",
   "execution_count": 21,
   "id": "32bfbb51",
   "metadata": {},
   "outputs": [],
   "source": [
    "f = open(\"./Output/allignmentRates.txt\", \"w\")\n",
    "for line in allignmentRates.stderr.split('\\n'):\n",
    "    f.write(line+'\\n')\n",
    "f.close()"
   ]
  },
  {
   "cell_type": "markdown",
   "id": "f09bcf15",
   "metadata": {},
   "source": [
    "This function takes the data from the file just created, and stores it into a csv file."
   ]
  },
  {
   "cell_type": "code",
   "execution_count": 5,
   "id": "fafd4993",
   "metadata": {},
   "outputs": [],
   "source": [
    "# Allignment rate function\n",
    "def getAllignmentRates(allignFile, output, fileOrder):\n",
    "    allignFile = open(allignFile, \"r\")\n",
    "    orderFile = open(fileOrder ,'r')\n",
    "    \n",
    "    order = []\n",
    "    allignment = []\n",
    "    readCount = []\n",
    "    for line in orderFile:\n",
    "        line = line.split(\" \")[-3]\n",
    "        line = line.split(\"_\")\n",
    "        ida = line[1]\n",
    "        idb = line[5].split(\".\")[0]\n",
    "        id = ida + \"_\" + idb\n",
    "        order.append(id)\n",
    "        \n",
    "    count = 0\n",
    "    for line in allignFile:\n",
    "        if count%6 ==0:\n",
    "            reads = line.strip().split(\" \")[0]\n",
    "            readCount.append(reads)\n",
    "        \n",
    "        if count % 6 == 5:\n",
    "            line = line.strip()\n",
    "            percent = line.split(\" \")[0][0:-1]\n",
    "            allignment.append(percent) \n",
    "        count += 1    \n",
    "    df_allign = []\n",
    "    \n",
    "    for i in range(len(order)):\n",
    "        df_allign.append({'ID':order[i], 'reads':readCount[i],'allignment_rate':allignment[i]})\n",
    "        \n",
    "    df_allign = pd.DataFrame.from_dict(df_allign)\n",
    "    df_allign.to_csv('./Output/allignmentRates'+output+'.csv', index=False)\n"
   ]
  },
  {
   "cell_type": "code",
   "execution_count": 6,
   "id": "cef5b593",
   "metadata": {},
   "outputs": [],
   "source": [
    "getAllignmentRates('./Output/allignmentRates.txt','','./Data/maps')"
   ]
  },
  {
   "cell_type": "code",
   "execution_count": 346,
   "id": "f3c73071",
   "metadata": {
    "scrolled": true
   },
   "outputs": [
    {
     "data": {
      "text/html": [
       "<div>\n",
       "<style scoped>\n",
       "    .dataframe tbody tr th:only-of-type {\n",
       "        vertical-align: middle;\n",
       "    }\n",
       "\n",
       "    .dataframe tbody tr th {\n",
       "        vertical-align: top;\n",
       "    }\n",
       "\n",
       "    .dataframe thead th {\n",
       "        text-align: right;\n",
       "    }\n",
       "</style>\n",
       "<table border=\"1\" class=\"dataframe\">\n",
       "  <thead>\n",
       "    <tr style=\"text-align: right;\">\n",
       "      <th></th>\n",
       "      <th>ID</th>\n",
       "      <th>raw_count</th>\n",
       "      <th>bcg1_count</th>\n",
       "      <th>post_dedup_count</th>\n",
       "      <th>post_filt_count</th>\n",
       "      <th>reads</th>\n",
       "      <th>allignment_rate</th>\n",
       "      <th>Sample Number</th>\n",
       "      <th>raw_count_Z</th>\n",
       "      <th>bcg1_count_Z</th>\n",
       "      <th>post_dedup_count_Z</th>\n",
       "      <th>post_filt_count_Z</th>\n",
       "      <th>reads_Z</th>\n",
       "      <th>allignment_rate_Z</th>\n",
       "    </tr>\n",
       "  </thead>\n",
       "  <tbody>\n",
       "    <tr>\n",
       "      <th>0</th>\n",
       "      <td>S7_TGTC</td>\n",
       "      <td>4324452</td>\n",
       "      <td>4235342</td>\n",
       "      <td>517398</td>\n",
       "      <td>517398</td>\n",
       "      <td>517398</td>\n",
       "      <td>28.83</td>\n",
       "      <td>1</td>\n",
       "      <td>1.865960</td>\n",
       "      <td>1.870104</td>\n",
       "      <td>1.324911</td>\n",
       "      <td>1.324911</td>\n",
       "      <td>1.324911</td>\n",
       "      <td>-0.848647</td>\n",
       "    </tr>\n",
       "    <tr>\n",
       "      <th>1</th>\n",
       "      <td>S10_AGTG</td>\n",
       "      <td>2511035</td>\n",
       "      <td>2444053</td>\n",
       "      <td>496764</td>\n",
       "      <td>496764</td>\n",
       "      <td>496764</td>\n",
       "      <td>4.17</td>\n",
       "      <td>2</td>\n",
       "      <td>0.596262</td>\n",
       "      <td>0.588590</td>\n",
       "      <td>1.200909</td>\n",
       "      <td>1.200909</td>\n",
       "      <td>1.200909</td>\n",
       "      <td>-1.712575</td>\n",
       "    </tr>\n",
       "    <tr>\n",
       "      <th>2</th>\n",
       "      <td>S13_CTAC</td>\n",
       "      <td>2195954</td>\n",
       "      <td>2166437</td>\n",
       "      <td>411489</td>\n",
       "      <td>411489</td>\n",
       "      <td>411489</td>\n",
       "      <td>0.45</td>\n",
       "      <td>3</td>\n",
       "      <td>0.375652</td>\n",
       "      <td>0.389980</td>\n",
       "      <td>0.688443</td>\n",
       "      <td>0.688443</td>\n",
       "      <td>0.688443</td>\n",
       "      <td>-1.842900</td>\n",
       "    </tr>\n",
       "    <tr>\n",
       "      <th>3</th>\n",
       "      <td>S16_GTGT</td>\n",
       "      <td>2137286</td>\n",
       "      <td>2100111</td>\n",
       "      <td>404740</td>\n",
       "      <td>404740</td>\n",
       "      <td>404740</td>\n",
       "      <td>11.74</td>\n",
       "      <td>4</td>\n",
       "      <td>0.334574</td>\n",
       "      <td>0.342530</td>\n",
       "      <td>0.647884</td>\n",
       "      <td>0.647884</td>\n",
       "      <td>0.647884</td>\n",
       "      <td>-1.447371</td>\n",
       "    </tr>\n",
       "    <tr>\n",
       "      <th>4</th>\n",
       "      <td>S14_TGTC</td>\n",
       "      <td>247758</td>\n",
       "      <td>242169</td>\n",
       "      <td>63079</td>\n",
       "      <td>63079</td>\n",
       "      <td>63079</td>\n",
       "      <td>76.53</td>\n",
       "      <td>5</td>\n",
       "      <td>-0.988415</td>\n",
       "      <td>-0.986668</td>\n",
       "      <td>-1.405353</td>\n",
       "      <td>-1.405353</td>\n",
       "      <td>-1.405353</td>\n",
       "      <td>0.822456</td>\n",
       "    </tr>\n",
       "    <tr>\n",
       "      <th>...</th>\n",
       "      <td>...</td>\n",
       "      <td>...</td>\n",
       "      <td>...</td>\n",
       "      <td>...</td>\n",
       "      <td>...</td>\n",
       "      <td>...</td>\n",
       "      <td>...</td>\n",
       "      <td>...</td>\n",
       "      <td>...</td>\n",
       "      <td>...</td>\n",
       "      <td>...</td>\n",
       "      <td>...</td>\n",
       "      <td>...</td>\n",
       "      <td>...</td>\n",
       "    </tr>\n",
       "    <tr>\n",
       "      <th>195</th>\n",
       "      <td>S6_GACT</td>\n",
       "      <td>2782969</td>\n",
       "      <td>2706626</td>\n",
       "      <td>552994</td>\n",
       "      <td>552994</td>\n",
       "      <td>552994</td>\n",
       "      <td>57.12</td>\n",
       "      <td>68B</td>\n",
       "      <td>0.786661</td>\n",
       "      <td>0.776439</td>\n",
       "      <td>1.538827</td>\n",
       "      <td>1.538828</td>\n",
       "      <td>1.538828</td>\n",
       "      <td>0.142454</td>\n",
       "    </tr>\n",
       "    <tr>\n",
       "      <th>196</th>\n",
       "      <td>S4_TGTC</td>\n",
       "      <td>2108754</td>\n",
       "      <td>2070261</td>\n",
       "      <td>330555</td>\n",
       "      <td>330555</td>\n",
       "      <td>330555</td>\n",
       "      <td>81.67</td>\n",
       "      <td>8A</td>\n",
       "      <td>0.314597</td>\n",
       "      <td>0.321174</td>\n",
       "      <td>0.202064</td>\n",
       "      <td>0.202064</td>\n",
       "      <td>0.202064</td>\n",
       "      <td>1.002528</td>\n",
       "    </tr>\n",
       "    <tr>\n",
       "      <th>197</th>\n",
       "      <td>S4_TCAC</td>\n",
       "      <td>1601901</td>\n",
       "      <td>1563440</td>\n",
       "      <td>355262</td>\n",
       "      <td>355262</td>\n",
       "      <td>355262</td>\n",
       "      <td>82.77</td>\n",
       "      <td>8B</td>\n",
       "      <td>-0.040286</td>\n",
       "      <td>-0.041412</td>\n",
       "      <td>0.350542</td>\n",
       "      <td>0.350542</td>\n",
       "      <td>0.350542</td>\n",
       "      <td>1.041065</td>\n",
       "    </tr>\n",
       "    <tr>\n",
       "      <th>198</th>\n",
       "      <td>S9_GTGT</td>\n",
       "      <td>283729</td>\n",
       "      <td>276837</td>\n",
       "      <td>91338</td>\n",
       "      <td>91338</td>\n",
       "      <td>91338</td>\n",
       "      <td>80.27</td>\n",
       "      <td>9A</td>\n",
       "      <td>-0.963230</td>\n",
       "      <td>-0.961866</td>\n",
       "      <td>-1.235529</td>\n",
       "      <td>-1.235529</td>\n",
       "      <td>-1.235529</td>\n",
       "      <td>0.953481</td>\n",
       "    </tr>\n",
       "    <tr>\n",
       "      <th>199</th>\n",
       "      <td>S17_GTGT</td>\n",
       "      <td>12717</td>\n",
       "      <td>11924</td>\n",
       "      <td>5285</td>\n",
       "      <td>5285</td>\n",
       "      <td>5285</td>\n",
       "      <td>49.78</td>\n",
       "      <td>9B</td>\n",
       "      <td>-1.152984</td>\n",
       "      <td>-1.151389</td>\n",
       "      <td>-1.752671</td>\n",
       "      <td>-1.752671</td>\n",
       "      <td>-1.752671</td>\n",
       "      <td>-0.114693</td>\n",
       "    </tr>\n",
       "  </tbody>\n",
       "</table>\n",
       "<p>200 rows × 14 columns</p>\n",
       "</div>"
      ],
      "text/plain": [
       "           ID  raw_count  bcg1_count  post_dedup_count  post_filt_count  \\\n",
       "0     S7_TGTC    4324452     4235342            517398           517398   \n",
       "1    S10_AGTG    2511035     2444053            496764           496764   \n",
       "2    S13_CTAC    2195954     2166437            411489           411489   \n",
       "3    S16_GTGT    2137286     2100111            404740           404740   \n",
       "4    S14_TGTC     247758      242169             63079            63079   \n",
       "..        ...        ...         ...               ...              ...   \n",
       "195   S6_GACT    2782969     2706626            552994           552994   \n",
       "196   S4_TGTC    2108754     2070261            330555           330555   \n",
       "197   S4_TCAC    1601901     1563440            355262           355262   \n",
       "198   S9_GTGT     283729      276837             91338            91338   \n",
       "199  S17_GTGT      12717       11924              5285             5285   \n",
       "\n",
       "      reads  allignment_rate Sample Number  raw_count_Z  bcg1_count_Z  \\\n",
       "0    517398            28.83             1     1.865960      1.870104   \n",
       "1    496764             4.17             2     0.596262      0.588590   \n",
       "2    411489             0.45             3     0.375652      0.389980   \n",
       "3    404740            11.74             4     0.334574      0.342530   \n",
       "4     63079            76.53             5    -0.988415     -0.986668   \n",
       "..      ...              ...           ...          ...           ...   \n",
       "195  552994            57.12           68B     0.786661      0.776439   \n",
       "196  330555            81.67            8A     0.314597      0.321174   \n",
       "197  355262            82.77            8B    -0.040286     -0.041412   \n",
       "198   91338            80.27            9A    -0.963230     -0.961866   \n",
       "199    5285            49.78            9B    -1.152984     -1.151389   \n",
       "\n",
       "     post_dedup_count_Z  post_filt_count_Z   reads_Z  allignment_rate_Z  \n",
       "0              1.324911           1.324911  1.324911          -0.848647  \n",
       "1              1.200909           1.200909  1.200909          -1.712575  \n",
       "2              0.688443           0.688443  0.688443          -1.842900  \n",
       "3              0.647884           0.647884  0.647884          -1.447371  \n",
       "4             -1.405353          -1.405353 -1.405353           0.822456  \n",
       "..                  ...                ...       ...                ...  \n",
       "195            1.538827           1.538828  1.538828           0.142454  \n",
       "196            0.202064           0.202064  0.202064           1.002528  \n",
       "197            0.350542           0.350542  0.350542           1.041065  \n",
       "198           -1.235529          -1.235529 -1.235529           0.953481  \n",
       "199           -1.752671          -1.752671 -1.752671          -0.114693  \n",
       "\n",
       "[200 rows x 14 columns]"
      ]
     },
     "metadata": {},
     "output_type": "display_data"
    },
    {
     "name": "stdout",
     "output_type": "stream",
     "text": [
      "Weighted average allignment rate: 45.81%\n",
      "Non-weighted average allignment rate: 53.05%\n"
     ]
    }
   ],
   "source": [
    "#Importing files with pandas\n",
    "countRaw = pd.read_csv(\"./Output/raw_counts.csv\")\n",
    "countBcg1 = pd.read_csv(\"./Output/bcg1_counts.csv\")\n",
    "countPostDedup = pd.read_csv(\"./Output/post_dedup_counts.csv\")\n",
    "countPostFiltering = pd.read_csv(\"./Output/post_filt_counts.csv\")\n",
    "allignmentRate = pd.read_csv(\"./Output/allignmentRates.csv\")\n",
    "sampleWell = pd.read_csv(\"./SampleData/well_plate.csv\")\n",
    "sampleWell = sampleWell.rename(columns={\"Sample ID\":\"ID\"})\n",
    "\n",
    "# Merging dataframes\n",
    "countsMerged = countRaw.merge(countBcg1, how='right')\n",
    "countsMerged = countsMerged.merge(countPostDedup, how='right')\n",
    "countsMerged = countsMerged.merge(countPostFiltering, how='right')\n",
    "countsMerged = countsMerged.merge(allignmentRate, how = 'right')\n",
    "countsMerged = countsMerged.merge(sampleWell, how = 'right')\n",
    "\n",
    "# Calculating zscores, changing col names, and merging to main dataframe\n",
    "numeric_cols = countsMerged.select_dtypes(include=[np.number]).columns\n",
    "zscores = countsMerged[numeric_cols].apply(scipy.stats.zscore)\n",
    "zscores = zscores.rename(columns=lambda x: x+\"_Z\")\n",
    "countsMerged = pd.concat([countsMerged, zscores], axis = 1)\n",
    "\n",
    "countsMerged.to_csv('./Output/readCountSummary.csv', index=False)\n",
    "display(countsMerged)\n",
    "\n",
    "print('Weighted average allignment rate: ',round(sum(countsMerged['allignment_rate'] * countsMerged['reads'])/sum(countsMerged['reads']),2),\"%\",sep='')\n",
    "print('Non-weighted average allignment rate: ', round(sum(countsMerged['allignment_rate'])/len(countsMerged['allignment_rate']),2),\"%\", sep='')"
   ]
  },
  {
   "cell_type": "code",
   "execution_count": 12,
   "id": "1fc8b1b3",
   "metadata": {},
   "outputs": [
    {
     "data": {
      "image/png": "[encoded data removed]"
     },
     "metadata": {},
     "output_type": "display_data"
    }
   ],
   "source": [
    "%%R\n",
    "readSummary <- read.csv(\"./Output/readCountSummary.csv\")\n",
    "par (mfrow = c(2,2))\n",
    "hist(readSummary$raw_count, main = 'raw_count')\n",
    "hist(readSummary$bcg1_count, main = 'bcg1_count')\n",
    "hist(readSummary$post_dedup_count, main = 'post_dedup_count')\n",
    "hist(readSummary$allignment_rate, main = 'allignment_rate')"
   ]
  },
  {
   "cell_type": "markdown",
   "id": "deca23e9",
   "metadata": {},
   "source": [
    "Convert sam files to bam files as input for ANGSD using Samtools"
   ]
  },
  {
   "cell_type": "code",
   "execution_count": 139,
   "id": "fb4e198d",
   "metadata": {},
   "outputs": [
    {
     "name": "stdout",
     "output_type": "stream",
     "text": [
      "CPU times: user 6.31 ms, sys: 3.61 ms, total: 9.92 ms\n",
      "Wall time: 1min 47s\n"
     ]
    }
   ],
   "source": [
    "%%time\n",
    "%%bash\n",
    "cd Data\n",
    ">s2b\n",
    "for file in *.sam; do\n",
    "echo \"samtools sort -O bam -o ${file/.sam/}.bam $file && samtools index ${file/.sam/}.bam\">>s2b;\n",
    "done\n",
    "bash s2b"
   ]
  },
  {
   "cell_type": "markdown",
   "id": "5a7e9402",
   "metadata": {},
   "source": [
    "### Genotype calling with ANGSD"
   ]
  },
  {
   "cell_type": "code",
   "execution_count": 32,
   "id": "703aef57",
   "metadata": {},
   "outputs": [
    {
     "name": "stdout",
     "output_type": "stream",
     "text": [
      "CPU times: user 28 ms, sys: 7.77 ms, total: 35.7 ms\n",
      "Wall time: 2min 14s\n"
     ]
    }
   ],
   "source": [
    "%%time\n",
    "%%capture angsd_geno_likely\n",
    "%%bash\n",
    "# Fuzzy genotyping\n",
    "cd Data\n",
    "ls *.bam > bams\n",
    "angsd -b bams -gl 2 -domajorminor 1 -snp_pval 1e-6 -domaf 1 -minmaf 0.05 -doGlf 3 -uniqueOnly 1 -remove_bads 1 -minMapQ 20 -minQ 25 -minInd 150 -out geno_likely\n",
    "mv geno_likely* ../Output"
   ]
  },
  {
   "cell_type": "code",
   "execution_count": 33,
   "id": "f2e61937",
   "metadata": {},
   "outputs": [
    {
     "name": "stdout",
     "output_type": "stream",
     "text": [
      "CPU times: user 32.6 ms, sys: 293 µs, total: 32.9 ms\n",
      "Wall time: 2min 26s\n"
     ]
    }
   ],
   "source": [
    "%%time\n",
    "%%capture angsd_geno_call\n",
    "%%bash\n",
    "# Calling genotypes\n",
    "cd Data\n",
    "angsd -b bams -gl 2 -domajorminor 1 -snp_pval 1e-6 -domaf 1 -minmaf 0.05 -doGlf 3 -uniqueOnly 1 -remove_bads 1 -minMapQ 20 -minQ 25 -minInd 150 -doCounts 1 -doDepth 1 -dumpCounts 2 -doPost 1 -doGeno 4 -postCutoff 0.6 -out geno_call\n",
    "mv geno_call* ../Output"
   ]
  },
  {
   "cell_type": "code",
   "execution_count": 204,
   "id": "9873fd1c",
   "metadata": {},
   "outputs": [],
   "source": [
    "def getANGSDresults(fileName, excludeZero):\n",
    "    df = pd.read_table(fileName, header=None)\n",
    "    df.drop(101,axis=1,inplace=True)\n",
    "    if excludeZero:\n",
    "        df.drop(0, axis=1, inplace=True)\n",
    "    df['count_depth'] = df[list(df.columns)].sum(axis=1)\n",
    "    df['sumProduct'] = 0\n",
    "    for i in list(df.columns):\n",
    "        if type(i) == int:\n",
    "            df['sumProduct'] += df[i].multiply(i)\n",
    "    df['average_depth'] = df['sumProduct'] / df['count_depth']\n",
    "    \n",
    "    def median(row):\n",
    "        row = row.iloc[0:100]\n",
    "        row = list(row)\n",
    "        n = sum(row)\n",
    "        position = 0\n",
    "        i = 0\n",
    "        while position < n//2:\n",
    "            position += row[i]\n",
    "            i += 1\n",
    "        return i \n",
    "   \n",
    "    df['median_depth'] = df.apply(lambda row: median(row), axis=1)\n",
    "\n",
    "    \n",
    "    print(df['average_depth'].describe().round(2))\n",
    "    weightedAverage = sum(df['average_depth'] * df['count_depth']) / sum(df['count_depth'])\n",
    "    print('Weighted average: ', weightedAverage)\n",
    "    sns.histplot(data=df, x = 'average_depth', fill=False)\n",
    "    plt.axvline(df['average_depth'].median(), color='green', linestyle='dashed')\n",
    "    plt.axvline(df['average_depth'].mean(), color='red', linestyle='dashed')\n",
    "    display(df)\n",
    "    df[['count_depth','average_depth','median_depth']].to_csv('./Output/coverageSummary.csv', index=False)"
   ]
  },
  {
   "cell_type": "code",
   "execution_count": 205,
   "id": "bf2abaf6",
   "metadata": {
    "scrolled": true
   },
   "outputs": [
    {
     "name": "stdout",
     "output_type": "stream",
     "text": [
      "count    200.00\n",
      "mean       8.29\n",
      "std        4.62\n",
      "min        1.84\n",
      "25%        4.61\n",
      "50%        7.88\n",
      "75%       10.73\n",
      "max       30.62\n",
      "Name: average_depth, dtype: float64\n",
      "Weighted average:  9.10367442449871\n"
     ]
    },
    {
     "data": {
      "text/html": [
       "<div>\n",
       "<style scoped>\n",
       "    .dataframe tbody tr th:only-of-type {\n",
       "        vertical-align: middle;\n",
       "    }\n",
       "\n",
       "    .dataframe tbody tr th {\n",
       "        vertical-align: top;\n",
       "    }\n",
       "\n",
       "    .dataframe thead th {\n",
       "        text-align: right;\n",
       "    }\n",
       "</style>\n",
       "<table border=\"1\" class=\"dataframe\">\n",
       "  <thead>\n",
       "    <tr style=\"text-align: right;\">\n",
       "      <th></th>\n",
       "      <th>1</th>\n",
       "      <th>2</th>\n",
       "      <th>3</th>\n",
       "      <th>4</th>\n",
       "      <th>5</th>\n",
       "      <th>6</th>\n",
       "      <th>7</th>\n",
       "      <th>8</th>\n",
       "      <th>9</th>\n",
       "      <th>10</th>\n",
       "      <th>...</th>\n",
       "      <th>95</th>\n",
       "      <th>96</th>\n",
       "      <th>97</th>\n",
       "      <th>98</th>\n",
       "      <th>99</th>\n",
       "      <th>100</th>\n",
       "      <th>count_depth</th>\n",
       "      <th>sumProduct</th>\n",
       "      <th>average_depth</th>\n",
       "      <th>median_depth</th>\n",
       "    </tr>\n",
       "  </thead>\n",
       "  <tbody>\n",
       "    <tr>\n",
       "      <th>0</th>\n",
       "      <td>42</td>\n",
       "      <td>64</td>\n",
       "      <td>96</td>\n",
       "      <td>141</td>\n",
       "      <td>139</td>\n",
       "      <td>162</td>\n",
       "      <td>166</td>\n",
       "      <td>143</td>\n",
       "      <td>158</td>\n",
       "      <td>164</td>\n",
       "      <td>...</td>\n",
       "      <td>0</td>\n",
       "      <td>0</td>\n",
       "      <td>0</td>\n",
       "      <td>0</td>\n",
       "      <td>0</td>\n",
       "      <td>40</td>\n",
       "      <td>3376</td>\n",
       "      <td>51975</td>\n",
       "      <td>15.395438</td>\n",
       "      <td>13</td>\n",
       "    </tr>\n",
       "    <tr>\n",
       "      <th>1</th>\n",
       "      <td>93</td>\n",
       "      <td>145</td>\n",
       "      <td>200</td>\n",
       "      <td>228</td>\n",
       "      <td>248</td>\n",
       "      <td>238</td>\n",
       "      <td>205</td>\n",
       "      <td>200</td>\n",
       "      <td>216</td>\n",
       "      <td>186</td>\n",
       "      <td>...</td>\n",
       "      <td>0</td>\n",
       "      <td>0</td>\n",
       "      <td>0</td>\n",
       "      <td>0</td>\n",
       "      <td>0</td>\n",
       "      <td>28</td>\n",
       "      <td>3339</td>\n",
       "      <td>38315</td>\n",
       "      <td>11.474993</td>\n",
       "      <td>9</td>\n",
       "    </tr>\n",
       "    <tr>\n",
       "      <th>2</th>\n",
       "      <td>425</td>\n",
       "      <td>425</td>\n",
       "      <td>442</td>\n",
       "      <td>353</td>\n",
       "      <td>317</td>\n",
       "      <td>207</td>\n",
       "      <td>173</td>\n",
       "      <td>140</td>\n",
       "      <td>114</td>\n",
       "      <td>98</td>\n",
       "      <td>...</td>\n",
       "      <td>1</td>\n",
       "      <td>1</td>\n",
       "      <td>0</td>\n",
       "      <td>0</td>\n",
       "      <td>0</td>\n",
       "      <td>13</td>\n",
       "      <td>3147</td>\n",
       "      <td>19840</td>\n",
       "      <td>6.304417</td>\n",
       "      <td>4</td>\n",
       "    </tr>\n",
       "    <tr>\n",
       "      <th>3</th>\n",
       "      <td>81</td>\n",
       "      <td>131</td>\n",
       "      <td>127</td>\n",
       "      <td>169</td>\n",
       "      <td>160</td>\n",
       "      <td>172</td>\n",
       "      <td>175</td>\n",
       "      <td>191</td>\n",
       "      <td>159</td>\n",
       "      <td>148</td>\n",
       "      <td>...</td>\n",
       "      <td>0</td>\n",
       "      <td>0</td>\n",
       "      <td>0</td>\n",
       "      <td>0</td>\n",
       "      <td>0</td>\n",
       "      <td>26</td>\n",
       "      <td>3377</td>\n",
       "      <td>49906</td>\n",
       "      <td>14.778206</td>\n",
       "      <td>12</td>\n",
       "    </tr>\n",
       "    <tr>\n",
       "      <th>4</th>\n",
       "      <td>27</td>\n",
       "      <td>28</td>\n",
       "      <td>58</td>\n",
       "      <td>110</td>\n",
       "      <td>125</td>\n",
       "      <td>140</td>\n",
       "      <td>174</td>\n",
       "      <td>146</td>\n",
       "      <td>155</td>\n",
       "      <td>152</td>\n",
       "      <td>...</td>\n",
       "      <td>1</td>\n",
       "      <td>2</td>\n",
       "      <td>0</td>\n",
       "      <td>0</td>\n",
       "      <td>0</td>\n",
       "      <td>26</td>\n",
       "      <td>3381</td>\n",
       "      <td>57567</td>\n",
       "      <td>17.026619</td>\n",
       "      <td>14</td>\n",
       "    </tr>\n",
       "    <tr>\n",
       "      <th>...</th>\n",
       "      <td>...</td>\n",
       "      <td>...</td>\n",
       "      <td>...</td>\n",
       "      <td>...</td>\n",
       "      <td>...</td>\n",
       "      <td>...</td>\n",
       "      <td>...</td>\n",
       "      <td>...</td>\n",
       "      <td>...</td>\n",
       "      <td>...</td>\n",
       "      <td>...</td>\n",
       "      <td>...</td>\n",
       "      <td>...</td>\n",
       "      <td>...</td>\n",
       "      <td>...</td>\n",
       "      <td>...</td>\n",
       "      <td>...</td>\n",
       "      <td>...</td>\n",
       "      <td>...</td>\n",
       "      <td>...</td>\n",
       "      <td>...</td>\n",
       "    </tr>\n",
       "    <tr>\n",
       "      <th>195</th>\n",
       "      <td>506</td>\n",
       "      <td>469</td>\n",
       "      <td>419</td>\n",
       "      <td>296</td>\n",
       "      <td>236</td>\n",
       "      <td>175</td>\n",
       "      <td>166</td>\n",
       "      <td>110</td>\n",
       "      <td>98</td>\n",
       "      <td>69</td>\n",
       "      <td>...</td>\n",
       "      <td>0</td>\n",
       "      <td>0</td>\n",
       "      <td>0</td>\n",
       "      <td>0</td>\n",
       "      <td>0</td>\n",
       "      <td>15</td>\n",
       "      <td>2962</td>\n",
       "      <td>18729</td>\n",
       "      <td>6.323093</td>\n",
       "      <td>4</td>\n",
       "    </tr>\n",
       "    <tr>\n",
       "      <th>196</th>\n",
       "      <td>78</td>\n",
       "      <td>3</td>\n",
       "      <td>0</td>\n",
       "      <td>0</td>\n",
       "      <td>0</td>\n",
       "      <td>5</td>\n",
       "      <td>0</td>\n",
       "      <td>0</td>\n",
       "      <td>0</td>\n",
       "      <td>0</td>\n",
       "      <td>...</td>\n",
       "      <td>0</td>\n",
       "      <td>0</td>\n",
       "      <td>0</td>\n",
       "      <td>0</td>\n",
       "      <td>0</td>\n",
       "      <td>1</td>\n",
       "      <td>87</td>\n",
       "      <td>214</td>\n",
       "      <td>2.459770</td>\n",
       "      <td>1</td>\n",
       "    </tr>\n",
       "    <tr>\n",
       "      <th>197</th>\n",
       "      <td>768</td>\n",
       "      <td>595</td>\n",
       "      <td>380</td>\n",
       "      <td>288</td>\n",
       "      <td>167</td>\n",
       "      <td>124</td>\n",
       "      <td>59</td>\n",
       "      <td>74</td>\n",
       "      <td>39</td>\n",
       "      <td>38</td>\n",
       "      <td>...</td>\n",
       "      <td>0</td>\n",
       "      <td>1</td>\n",
       "      <td>0</td>\n",
       "      <td>0</td>\n",
       "      <td>0</td>\n",
       "      <td>11</td>\n",
       "      <td>2714</td>\n",
       "      <td>13267</td>\n",
       "      <td>4.888357</td>\n",
       "      <td>2</td>\n",
       "    </tr>\n",
       "    <tr>\n",
       "      <th>198</th>\n",
       "      <td>126</td>\n",
       "      <td>23</td>\n",
       "      <td>9</td>\n",
       "      <td>0</td>\n",
       "      <td>0</td>\n",
       "      <td>0</td>\n",
       "      <td>1</td>\n",
       "      <td>0</td>\n",
       "      <td>0</td>\n",
       "      <td>0</td>\n",
       "      <td>...</td>\n",
       "      <td>0</td>\n",
       "      <td>0</td>\n",
       "      <td>0</td>\n",
       "      <td>0</td>\n",
       "      <td>0</td>\n",
       "      <td>1</td>\n",
       "      <td>165</td>\n",
       "      <td>694</td>\n",
       "      <td>4.206061</td>\n",
       "      <td>1</td>\n",
       "    </tr>\n",
       "    <tr>\n",
       "      <th>199</th>\n",
       "      <td>171</td>\n",
       "      <td>294</td>\n",
       "      <td>363</td>\n",
       "      <td>318</td>\n",
       "      <td>347</td>\n",
       "      <td>307</td>\n",
       "      <td>243</td>\n",
       "      <td>214</td>\n",
       "      <td>179</td>\n",
       "      <td>134</td>\n",
       "      <td>...</td>\n",
       "      <td>1</td>\n",
       "      <td>0</td>\n",
       "      <td>0</td>\n",
       "      <td>0</td>\n",
       "      <td>0</td>\n",
       "      <td>11</td>\n",
       "      <td>3309</td>\n",
       "      <td>27012</td>\n",
       "      <td>8.163191</td>\n",
       "      <td>6</td>\n",
       "    </tr>\n",
       "  </tbody>\n",
       "</table>\n",
       "<p>200 rows × 104 columns</p>\n",
       "</div>"
      ],
      "text/plain": [
       "       1    2    3    4    5    6    7    8    9   10  ...  95  96  97  98  \\\n",
       "0     42   64   96  141  139  162  166  143  158  164  ...   0   0   0   0   \n",
       "1     93  145  200  228  248  238  205  200  216  186  ...   0   0   0   0   \n",
       "2    425  425  442  353  317  207  173  140  114   98  ...   1   1   0   0   \n",
       "3     81  131  127  169  160  172  175  191  159  148  ...   0   0   0   0   \n",
       "4     27   28   58  110  125  140  174  146  155  152  ...   1   2   0   0   \n",
       "..   ...  ...  ...  ...  ...  ...  ...  ...  ...  ...  ...  ..  ..  ..  ..   \n",
       "195  506  469  419  296  236  175  166  110   98   69  ...   0   0   0   0   \n",
       "196   78    3    0    0    0    5    0    0    0    0  ...   0   0   0   0   \n",
       "197  768  595  380  288  167  124   59   74   39   38  ...   0   1   0   0   \n",
       "198  126   23    9    0    0    0    1    0    0    0  ...   0   0   0   0   \n",
       "199  171  294  363  318  347  307  243  214  179  134  ...   1   0   0   0   \n",
       "\n",
       "     99  100  count_depth  sumProduct  average_depth  median_depth  \n",
       "0     0   40         3376       51975      15.395438            13  \n",
       "1     0   28         3339       38315      11.474993             9  \n",
       "2     0   13         3147       19840       6.304417             4  \n",
       "3     0   26         3377       49906      14.778206            12  \n",
       "4     0   26         3381       57567      17.026619            14  \n",
       "..   ..  ...          ...         ...            ...           ...  \n",
       "195   0   15         2962       18729       6.323093             4  \n",
       "196   0    1           87         214       2.459770             1  \n",
       "197   0   11         2714       13267       4.888357             2  \n",
       "198   0    1          165         694       4.206061             1  \n",
       "199   0   11         3309       27012       8.163191             6  \n",
       "\n",
       "[200 rows x 104 columns]"
      ]
     },
     "metadata": {},
     "output_type": "display_data"
    },
    {
     "data": {
      "image/png": "[encoded data removed]",
      "text/plain": [
       "<Figure size 432x288 with 1 Axes>"
      ]
     },
     "metadata": {
      "needs_background": "light"
     },
     "output_type": "display_data"
    }
   ],
   "source": [
    "getANGSDresults(\"./Output/geno_call.depthSample\", True)"
   ]
  },
  {
   "cell_type": "markdown",
   "id": "aa3ec1c1",
   "metadata": {},
   "source": [
    "Mean depth = 8.29 (weighted = 9.1). "
   ]
  },
  {
   "cell_type": "markdown",
   "id": "d7a6cdd5",
   "metadata": {},
   "source": [
    "### NGSRelate"
   ]
  },
  {
   "cell_type": "code",
   "execution_count": 36,
   "id": "6a45f2c4",
   "metadata": {},
   "outputs": [],
   "source": [
    "%%bash\n",
    "zcat Output/geno_likely.mafs.gz | cut -f5 | sed 1d>Output/allele_freq"
   ]
  },
  {
   "cell_type": "code",
   "execution_count": 11,
   "id": "3bd4e567",
   "metadata": {},
   "outputs": [
    {
     "name": "stdout",
     "output_type": "stream",
     "text": [
      "CPU times: user 9.39 ms, sys: 1.97 ms, total: 11.4 ms\n",
      "Wall time: 39.2 s\n"
     ]
    }
   ],
   "source": [
    "%%time\n",
    "%%capture ngsRelate\n",
    "%%bash\n",
    "cd Data\n",
    "ngsRelate -f ../Output/allele_freq -g ../Output/geno_likely.glf.gz -n 200 -z bams -O ../Output/ngsOutput.res"
   ]
  },
  {
   "cell_type": "markdown",
   "id": "9fb4f291",
   "metadata": {},
   "source": [
    "The following function formats the NgsRelate output. It creates identifier columns (sample ID, sample number, family, mother?, child?, and replicate?) to help with easier subsetting and analysis down the road."
   ]
  },
  {
   "cell_type": "code",
   "execution_count": 67,
   "id": "6d2f4830",
   "metadata": {},
   "outputs": [],
   "source": [
    "%%R\n",
    "formatNGS <- function(outputFileName, wellPlateFileName){\n",
    "    ngs_out <- read.table(outputFileName, header=TRUE)\n",
    "    well <- read.csv(wellPlateFileName, header=TRUE)\n",
    "    colnames(ngs_out)[3] <- \"file_a\"\n",
    "    colnames(ngs_out)[4] <- \"file_b\"\n",
    "    \n",
    "    # Keep only columns we care about\n",
    "    ngs_out <- subset(ngs_out, select = c(1:5, 15:20, 25, 31:33))\n",
    "   \n",
    "    # Create sampleID columns from file name for easier identification \n",
    "    sample.ID.A <- unlist(lapply(strsplit(ngs_out$file_a, \"_\" ), function(x) {paste(x[[2]], substr(x[[6]],1,4), sep =\"_\")}))\n",
    "    ngs_out$sample.ID.A <- sample.ID.A\n",
    "    \n",
    "    sample.ID.B <- unlist(lapply(strsplit(ngs_out$file_b, \"_\" ), function(x) {paste(x[[2]], substr(x[[6]],1,4), sep =\"_\")}))\n",
    "    ngs_out$sample.ID.B <- sample.ID.B\n",
    "    \n",
    "    # Joining sample ID with sample number\n",
    "    ngs_out <- merge(ngs_out, well, by.x =\"sample.ID.A\", by.y=\"Sample.ID\")\n",
    "    colnames(ngs_out)[length(ngs_out)] <- \"sample.num.A\"\n",
    "    \n",
    "    ngs_out <- merge(ngs_out, well, by.x =\"sample.ID.B\", by.y=\"Sample.ID\")\n",
    "    colnames(ngs_out)[length(ngs_out)] <- \"sample.num.B\"\n",
    "    \n",
    "    # Reinstate ordering\n",
    "    ngs_out <- ngs_out %>% select(sample.ID.A, everything())\n",
    "    ngs_out <- ngs_out[order(ngs_out$a, ngs_out$b),]\n",
    "    \n",
    "    # Adding family columns\n",
    "    findFamily <- function(sampleID){\n",
    "        family = ''\n",
    "        for (char in strsplit(sampleID,\"\")[[1]]){\n",
    "            if (!is.na(as.numeric(char))){\n",
    "                family = paste(family, char, sep = '')}\n",
    "            else{break}}\n",
    "        return (family)}\n",
    "        \n",
    "    ngs_out$family.A <- unlist(lapply(ngs_out$sample.num.A, function(x) {findFamily(x)}))    \n",
    "    ngs_out$family.B <- unlist(lapply(ngs_out$sample.num.B, function(x) {findFamily(x)}))\n",
    "    \n",
    "    # Adding mother columns\n",
    "    findMother <- function(x){\n",
    "        for (char in strsplit(x, \"\")[[1]]){\n",
    "            if (is.na(as.numeric(char)) & !grepl(char, ' replic.')) {\n",
    "                return (FALSE)}}\n",
    "        return (TRUE) }\n",
    "    \n",
    "    ngs_out$mother.A <- unlist(lapply(ngs_out$sample.num.A, function(x) {findMother(x)}))\n",
    "    ngs_out$mother.B <- unlist(lapply(ngs_out$sample.num.B, function(x) {findMother(x)}))\n",
    "    \n",
    "    # Adding child columns\n",
    "    ngs_out$child.A <- unlist(lapply(ngs_out$mother.A, function(x) {!x}))\n",
    "    ngs_out$child.B <- unlist(lapply(ngs_out$mother.B, function(x) {!x}))\n",
    "    \n",
    "    # Adding replicate columns\n",
    "    ngs_out$replic.A <- unlist(lapply(ngs_out$sample.num.A, function(x){grepl(' replic.', x)}))\n",
    "    ngs_out$replic.B <- unlist(lapply(ngs_out$sample.num.B, function(x){grepl(' replic.', x)}))\n",
    "    \n",
    "    # Adding coverage depth median/average statistics\n",
    "    cov <- read.csv('./Output/coverageSummary.csv',header=TRUE)\n",
    "    ngs_out <- merge(ngs_out, cov, by.x='a',by.y='row.names')\n",
    "    ngs_out <- merge(ngs_out, cov, by.x='b',by.y='row.names')\n",
    "    return (ngs_out)\n",
    "\n",
    "  \n",
    "}"
   ]
  },
  {
   "cell_type": "code",
   "execution_count": 68,
   "id": "6d2de9d5",
   "metadata": {},
   "outputs": [
    {
     "name": "stdout",
     "output_type": "stream",
     "text": [
      "'data.frame':\t19701 obs. of  33 variables:\n",
      " $ b                     : int  2 3 3 4 4 4 5 5 5 5 ...\n",
      " $ a                     : int  1 1 2 1 2 3 3 1 4 2 ...\n",
      " $ sample.ID.A           : chr  \"S1_AGAC\" \"S1_AGAC\" \"S1_AGTG\" \"S1_AGAC\" ...\n",
      " $ sample.ID.B           : chr  \"S1_AGTG\" \"S1_CATC\" \"S1_CATC\" \"S1_CTAC\" ...\n",
      " $ file_a                : chr  \"ILL-RAD01_S1_L001_R1_001_AGAC.trim.bt2.bam\" \"ILL-RAD01_S1_L001_R1_001_AGAC.trim.bt2.bam\" \"ILL-RAD01_S1_L001_R1_001_AGTG.trim.bt2.bam\" \"ILL-RAD01_S1_L001_R1_001_AGAC.trim.bt2.bam\" ...\n",
      " $ file_b                : chr  \"ILL-RAD01_S1_L001_R1_001_AGTG.trim.bt2.bam\" \"ILL-RAD01_S1_L001_R1_001_CATC.trim.bt2.bam\" \"ILL-RAD01_S1_L001_R1_001_CATC.trim.bt2.bam\" \"ILL-RAD01_S1_L001_R1_001_CTAC.trim.bt2.bam\" ...\n",
      " $ nSites                : int  3373 3638 3413 3645 3413 3686 3683 3647 3690 3410 ...\n",
      " $ rab                   : num  0.008608 0.007126 0.298146 0.028358 0.000039 ...\n",
      " $ Fa                    : num  0.01408 0.023138 0 0.035564 0.000002 ...\n",
      " $ Fb                    : num  0.000001 0 0 0.044388 0.044536 ...\n",
      " $ theta                 : num  0.00574 0.00356 0.14907 0.0149 0.00002 ...\n",
      " $ inbred_relatedness_1_2: num  0.005739 0 0 0 0.000002 ...\n",
      " $ inbred_relatedness_2_1: num  0.000001 0 0 0.002905 0.000002 ...\n",
      " $ F_diff_a_b            : num  0.0013 0.01157 0 -0.00151 -0.02227 ...\n",
      " $ R0                    : num  0.3611 0.341 0.0811 0.5414 0.4332 ...\n",
      " $ R1                    : num  0.254 0.278 0.574 0.249 0.258 ...\n",
      " $ KING                  : num  0.0499 0.0605 0.2288 -0.0151 0.0245 ...\n",
      " $ sample.num.A          : chr  \"65B\" \"65B\" \"45A\" \"65B\" ...\n",
      " $ sample.num.B          : chr  \"45A\" \"45B\" \"45B\" \"60B\" ...\n",
      " $ family.A              : chr  \"65\" \"65\" \"45\" \"65\" ...\n",
      " $ family.B              : chr  \"45\" \"45\" \"45\" \"60\" ...\n",
      " $ mother.A              : logi  FALSE FALSE FALSE FALSE FALSE FALSE ...\n",
      " $ mother.B              : logi  FALSE FALSE FALSE FALSE FALSE FALSE ...\n",
      " $ child.A               : logi  TRUE TRUE TRUE TRUE TRUE TRUE ...\n",
      " $ child.B               : logi  TRUE TRUE TRUE TRUE TRUE TRUE ...\n",
      " $ replic.A              : logi  FALSE FALSE FALSE FALSE FALSE FALSE ...\n",
      " $ replic.B              : logi  FALSE FALSE FALSE FALSE FALSE FALSE ...\n",
      " $ count_depth.x         : int  3376 3376 3339 3376 3339 3147 3147 3376 3377 3339 ...\n",
      " $ average_depth.x       : num  15.4 15.4 11.5 15.4 11.5 ...\n",
      " $ median_depth.x        : int  13 13 9 13 9 4 4 13 12 9 ...\n",
      " $ count_depth.y         : int  3339 3147 3147 3377 3377 3377 3381 3381 3381 3381 ...\n",
      " $ average_depth.y       : num  11.5 6.3 6.3 14.8 14.8 ...\n",
      " $ median_depth.y        : int  9 4 4 12 12 12 14 14 14 14 ...\n"
     ]
    }
   ],
   "source": [
    "%%R\n",
    "ngs <- formatNGS('Output/ngsOutput.res','SampleData/well_plate.csv')\n",
    "str(ngs)"
   ]
  },
  {
   "cell_type": "code",
   "execution_count": 69,
   "id": "b758fccf",
   "metadata": {},
   "outputs": [
    {
     "data": {
      "image/png": "[encoded data removed]"
     },
     "metadata": {},
     "output_type": "display_data"
    }
   ],
   "source": [
    "%%R\n",
    "ggplot(ngs, aes(x=nSites)) +\n",
    "    geom_histogram(bins = 60, fill = 'cornflowerblue') +\n",
    "    theme_classic() +\n",
    "    ggtitle(\"SNP count distribution\") "
   ]
  },
  {
   "cell_type": "markdown",
   "id": "3a8d8d45",
   "metadata": {},
   "source": [
    "Skewed left with a spike at around 200 SNPs. "
   ]
  },
  {
   "cell_type": "code",
   "execution_count": 70,
   "id": "d58adf88",
   "metadata": {
    "scrolled": false
   },
   "outputs": [
    {
     "data": {
      "image/png": "[encoded data removed]"
     },
     "metadata": {},
     "output_type": "display_data"
    }
   ],
   "source": [
    "%%R\n",
    "unrelated <- ngs %>% filter(family.A != family.B)\n",
    "outliers <- unrelated %>% filter(rab > 0.16)\n",
    "ggplot(unrelated, aes(y=rab)) + \n",
    "    geom_boxplot() +\n",
    "    geom_text_repel(data=outliers, aes(x=0,label=nSites)) +\n",
    "    theme_bw() +\n",
    "    ggtitle(\"Relatedness values for unrelated pairs\")"
   ]
  },
  {
   "cell_type": "markdown",
   "id": "0af53006",
   "metadata": {},
   "source": [
    "Median is around 0, as we would expect, but many outliers with high relatedness (all with relatively low quantity of site comparisons)."
   ]
  },
  {
   "cell_type": "code",
   "execution_count": 71,
   "id": "0f052a68",
   "metadata": {},
   "outputs": [
    {
     "data": {
      "image/png": "[encoded data removed]"
     },
     "metadata": {},
     "output_type": "display_data"
    }
   ],
   "source": [
    "%%R\n",
    "ggplot(ngs %>% filter(family.A == family.B & mother.A + mother.B == 1 & replic.A + replic.B == 0), \n",
    "       aes(x=rab)) +\n",
    "    geom_histogram(bins=50) +\n",
    "    theme_bw() +\n",
    "    ggtitle(\"Relatedness values for mother offspring pairs\")"
   ]
  },
  {
   "cell_type": "code",
   "execution_count": 72,
   "id": "8ab82788",
   "metadata": {},
   "outputs": [
    {
     "data": {
      "image/png": "[encoded data removed]"
     },
     "metadata": {},
     "output_type": "display_data"
    }
   ],
   "source": [
    "%%R\n",
    "outliers <- ngs %>% filter(family.A == family.B & mother.A + mother.B == 1 & replic.A + replic.B == 0) %>% filter(rab<0.38 | rab > 0.6)\n",
    "ggplot(ngs %>% filter(family.A == family.B & mother.A + mother.B == 1 & replic.A + replic.B == 0), \n",
    "       aes(y=rab)) + \n",
    "    geom_boxplot() +\n",
    "    geom_text_repel(data=outliers, aes(x=0,label=nSites)) +\n",
    "    theme_bw() +\n",
    "    ggtitle(\"Relatedness values for mother offspring pairs\")"
   ]
  },
  {
   "cell_type": "markdown",
   "id": "c4c27979",
   "metadata": {},
   "source": [
    "Median ~0.5 as we expect, but large number of pairs with low relatedness, all with relatively low quantity of sites (<500)"
   ]
  },
  {
   "cell_type": "code",
   "execution_count": 73,
   "id": "131def39",
   "metadata": {},
   "outputs": [
    {
     "data": {
      "image/png": "[encoded data removed]"
     },
     "metadata": {},
     "output_type": "display_data"
    }
   ],
   "source": [
    "%%R\n",
    "sibPairs <- ngs %>% filter(family.A==family.B & child.A + child.B ==2 & replic.A+replic.B ==0)\n",
    "ggplot(sibPairs, aes(x=rab)) + \n",
    "    geom_histogram(bins=40) + \n",
    "    theme_classic() + \n",
    "    geom_vline(xintercept = 0.16, linetype = 'dashed', color='red') +\n",
    "    geom_vline(xintercept = 0.34, linetype = 'dashed', color='red') +\n",
    "    geom_vline(xintercept = 0.41, linetype = 'dashed', color='blue') +\n",
    "    geom_vline(xintercept = 0.59, linetype = 'dashed', color='blue') +\n",
    "    ggtitle(\"Relatedness distribution for sibling pairs\") + \n",
    "    labs(caption = \"Red region marks expected relatedness values for half-siblings, blue for full-siblings\")\n",
    "    "
   ]
  },
  {
   "cell_type": "code",
   "execution_count": 74,
   "id": "45f820a6",
   "metadata": {},
   "outputs": [
    {
     "data": {
      "image/png": "[encoded data removed]"
     },
     "metadata": {},
     "output_type": "display_data"
    }
   ],
   "source": [
    "%%R\n",
    "outliers <- sibPairs %>% filter(rab<0.16 | rab > 0.59)\n",
    "ggplot(sibPairs, aes(y=rab)) + \n",
    "    geom_boxplot() +\n",
    "    geom_text_repel(data=outliers, aes(x=0,label=nSites)) +\n",
    "    theme_classic() +\n",
    "    ggtitle(\"Relatedness values for sibling pairs\")"
   ]
  },
  {
   "cell_type": "markdown",
   "id": "670be7be",
   "metadata": {},
   "source": [
    "### Outlier investigation: 17A / 17B"
   ]
  },
  {
   "cell_type": "markdown",
   "id": "31ccc61f",
   "metadata": {},
   "source": [
    "By filtering to nSites equals 143, we find that the outlier with low relatedness are supposed siblings 17A and 17B."
   ]
  },
  {
   "cell_type": "code",
   "execution_count": 75,
   "id": "5c0f4341",
   "metadata": {},
   "outputs": [
    {
     "name": "stdout",
     "output_type": "stream",
     "text": [
      "   b  a sample.ID.A sample.ID.B                                     file_a\n",
      "1 98 43     S4_GTGA     S9_AGTG ILL-RAD04_S4_L001_R1_001_GTGA.trim.bt2.bam\n",
      "                                      file_b nSites rab Fa      Fb theta\n",
      "1 ILL-RAD09_S9_L001_R1_001_AGTG.trim.bt2.bam    143   0  0 6.3e-05     0\n",
      "  inbred_relatedness_1_2 inbred_relatedness_2_1 F_diff_a_b       R0       R1\n",
      "1                      0                      0   -3.1e-05 0.292035 0.345635\n",
      "      KING sample.num.A sample.num.B family.A family.B mother.A mother.B\n",
      "1 0.090396          17B          17A       17       17    FALSE    FALSE\n",
      "  child.A child.B replic.A replic.B count_depth.x average_depth.x\n",
      "1    TRUE    TRUE    FALSE    FALSE          3259        7.819577\n",
      "  median_depth.x count_depth.y average_depth.y median_depth.y\n",
      "1              6          3121        5.902595              4\n"
     ]
    }
   ],
   "source": [
    "%%R\n",
    "print(sibPairs %>% filter (nSites == 143))"
   ]
  },
  {
   "cell_type": "code",
   "execution_count": 76,
   "id": "64b5f044",
   "metadata": {},
   "outputs": [
    {
     "data": {
      "image/png": "[encoded data removed]"
     },
     "metadata": {},
     "output_type": "display_data"
    }
   ],
   "source": [
    "%%R\n",
    "pairs.17A <- ngs %>% filter(sample.num.A == '17A' | sample.num.B == '17A')\n",
    "ggplot(pairs.17A, aes(y=rab)) + \n",
    "    geom_boxplot() + \n",
    "    geom_text_repel(data=pairs.17A %>% filter(rab > 0.25), aes(x=0,label=nSites)) + theme_bw()"
   ]
  },
  {
   "cell_type": "markdown",
   "id": "800808ed",
   "metadata": {},
   "source": [
    "Many inviduals with high relatedness to 17A, all have relatively low SNP count (16-132). 17A likely has poor sequence quality."
   ]
  },
  {
   "cell_type": "code",
   "execution_count": 77,
   "id": "42a904fc",
   "metadata": {},
   "outputs": [
    {
     "name": "stdout",
     "output_type": "stream",
     "text": [
      "       ID raw_count bcg1_count post_dedup_count post_filt_count  reads\n",
      "1 S9_AGTG   1916960    1879736           200420          200420 200420\n",
      "  allignment_rate Sample.Number raw_count_Z bcg1_count_Z post_dedup_count_Z\n",
      "1            0.88           17A   0.1803085    0.1848701         -0.5799924\n",
      "  post_filt_count_Z    reads_Z allignment_rate_Z\n",
      "1        -0.5799923 -0.5799923         -1.827836\n"
     ]
    }
   ],
   "source": [
    "%%R\n",
    "sampleQuality <- read.csv(\"./Output/readCountSummary.csv\")\n",
    "sample17A.quality <- sampleQuality %>% filter(Sample.Number == '17A')\n",
    "sample17A.quality"
   ]
  },
  {
   "cell_type": "markdown",
   "id": "51926db2",
   "metadata": {},
   "source": [
    "17A has below average reads/allignment rates (Z-scores: Z = -0.5799923, Z = -1.827836)"
   ]
  },
  {
   "cell_type": "markdown",
   "id": "e1400d6e",
   "metadata": {},
   "source": [
    "Perhaps 17A was mislabeled and belongs to another family. Checking to see if there are any other potential families that sample 17A reasonably could fall into where the relatedness between 17A and potential siblings is greater than 0.2, and the relatedness between 17A and potential mother is greater than 0.4."
   ]
  },
  {
   "cell_type": "code",
   "execution_count": 78,
   "id": "2ace9586",
   "metadata": {},
   "outputs": [
    {
     "name": "stdout",
     "output_type": "stream",
     "text": [
      "[1] \"17\" \"28\"\n"
     ]
    }
   ],
   "source": [
    "%%R\n",
    "potentialSibs.17A <- pairs.17A %>% filter(child.A + child.B ==2 & rab > 0.2)\n",
    "potentialMothers.17A <- pairs.17A %>% filter(child.A + child.B ==1 & rab > 0.4)\n",
    "\n",
    "possibleFams.17A <- intersect(union(potentialSibs.17A$family.A,potentialSibs.17A$family.B),\n",
    "                                union(potentialMothers.17A$family.A, potentialMothers.17A$family.B))\n",
    "\n",
    "print(possibleFams.17A)\n"
   ]
  },
  {
   "cell_type": "code",
   "execution_count": 79,
   "id": "50c4d45b",
   "metadata": {},
   "outputs": [
    {
     "data": {
      "image/png": "[encoded data removed]"
     },
     "metadata": {},
     "output_type": "display_data"
    }
   ],
   "source": [
    "%%R\n",
    "# Only potential family identified is 28.\n",
    "potentialFams.17A <- pairs.17A %>% filter ((family.A %in% c(\"17\",\"28\") & \n",
    "                                            (family.B %in% c(\"17\",\"28\"))))\n",
    "potFamily <- function(x,y){\n",
    "    if (x=='17'){return (y)}else{return (x)}}\n",
    "\n",
    "otherID <- function(x,y){\n",
    "    if (x=='17A'){return(y)} else{return(x)}}\n",
    "potentialFams.17A$pot.fam <- mapply(potFamily, potentialFams.17A$family.A, potentialFams.17A$family.B )\n",
    "potentialFams.17A$otherID <- mapply(otherID, potentialFams.17A$sample.num.A, potentialFams.17A$sample.num.B)\n",
    "\n",
    "ggplot(data = potentialFams.17A, aes(y = rab, x = pot.fam)) + \n",
    "    theme_bw() +\n",
    "    geom_point() +\n",
    "    geom_text_repel(aes(x=pot.fam, label=nSites), nudge_x=0.2) + \n",
    "    geom_text_repel(aes(x=pot.fam, label=otherID), nudge_y=-0.025) + \n",
    "    ylab(\"Relatedness\") + \n",
    "    xlab(\"Potential Family\")"
   ]
  },
  {
   "cell_type": "markdown",
   "id": "92935edc",
   "metadata": {},
   "source": [
    "Family 28 is the only family that meets these criteria. Lets assume 17A and 28A could be full siblings and 17A and 28B are half siblings (their rab is about 0.16). This implies that 28A and and 28B are also half siblings. Is this likely?"
   ]
  },
  {
   "cell_type": "code",
   "execution_count": 80,
   "id": "a2503315",
   "metadata": {},
   "outputs": [
    {
     "name": "stdout",
     "output_type": "stream",
     "text": [
      "[1] 0.456836\n"
     ]
    }
   ],
   "source": [
    "%%R\n",
    "sibs.28 <- sibPairs %>% filter(sample.num.A == '28B' & sample.num.B == '28A')\n",
    "print(sibs.28$rab)"
   ]
  },
  {
   "cell_type": "markdown",
   "id": "b254b709",
   "metadata": {},
   "source": [
    "28A and 28B are likely full siblings (rab = 0.46). Our conclusion is that 17A was not misabled but rather suffers from poor read quality."
   ]
  },
  {
   "cell_type": "code",
   "execution_count": 81,
   "id": "7792bc02",
   "metadata": {},
   "outputs": [
    {
     "data": {
      "image/png": "[encoded data removed]"
     },
     "metadata": {},
     "output_type": "display_data"
    }
   ],
   "source": [
    "%%R\n",
    "# A quick look at 17B\n",
    "pairs.17B <- ngs %>% filter(sample.num.A == '17B' | sample.num.B == '17B')\n",
    "ggplot(pairs.17B, aes(y=rab)) + \n",
    "    geom_boxplot() + \n",
    "    geom_text(data=pairs.17B %>% filter(rab > 0.05), aes(x=0,label=nSites), nudge_x=-0.05) + \n",
    "    geom_text(data=pairs.17B %>% filter(rab > 0.05), aes(x=0,label=sample.num.B), nudge_x=0.05) +\n",
    "    theme_bw()"
   ]
  },
  {
   "cell_type": "markdown",
   "id": "204ed4aa",
   "metadata": {},
   "source": [
    "17B has expected relatedness with mother, and we are very confident in this value (# SNPs = 2856). It is very likely that 17B was not mislabeled."
   ]
  },
  {
   "cell_type": "code",
   "execution_count": 82,
   "id": "ffc532be",
   "metadata": {},
   "outputs": [
    {
     "data": {
      "image/png": "[encoded data removed]"
     },
     "metadata": {},
     "output_type": "display_data"
    }
   ],
   "source": [
    "%%R\n",
    "pairs.28B <- ngs %>% filter(sample.num.A == '28B' | sample.num.B == '28B')\n",
    "ggplot(pairs.28B, aes(y=rab)) + \n",
    "    geom_boxplot() + \n",
    "    geom_text(data=pairs.28B %>% filter(rab > 0.05), aes(x=0,label=nSites), nudge_x=-0.05) + \n",
    "    geom_text(data=pairs.28B %>% filter(rab > 0.05), aes(x=0,label=sample.num.B), nudge_x=0.05) +\n",
    "    theme_bw()"
   ]
  },
  {
   "cell_type": "code",
   "execution_count": 227,
   "id": "a325989a",
   "metadata": {},
   "outputs": [
    {
     "data": {
      "image/png": "[encoded data removed]"
     },
     "metadata": {},
     "output_type": "display_data"
    }
   ],
   "source": [
    "%%R\n",
    "pairs.28A <- ngs %>% filter(sample.num.A == '28A' | sample.num.B == '28A')\n",
    "ggplot(pairs.28A, aes(y=rab)) + \n",
    "    geom_boxplot() + \n",
    "    geom_text(data=pairs.28A %>% filter(rab > 0.05), aes(x=0,label=nSites), nudge_x=-0.05) + \n",
    "    geom_text(data=pairs.28A %>% filter(rab > 0.05), aes(x=0,label=sample.num.A), nudge_x=0.05) +\n",
    "    theme_bw()"
   ]
  },
  {
   "cell_type": "markdown",
   "id": "671f7372",
   "metadata": {},
   "source": [
    "28B is highly related to its mother 28, so it too is likely correctly labeled."
   ]
  },
  {
   "cell_type": "markdown",
   "id": "6d02eb62",
   "metadata": {},
   "source": [
    "We conclude that 17A suffers from poor sequencing/genotyping quality and was not mislabeled."
   ]
  },
  {
   "cell_type": "markdown",
   "id": "35ea3ed9",
   "metadata": {},
   "source": [
    "### Bootstrap Confidence Intervals"
   ]
  },
  {
   "cell_type": "code",
   "execution_count": 132,
   "id": "f073be78",
   "metadata": {},
   "outputs": [],
   "source": [
    "%%R\n",
    "pairs <- data.frame(sibPairs$a, sibPairs$b)\n",
    "write.table(pairs, file = 'CI/pairs.csv',sep=',',col.names=FALSE,row.names=FALSE)"
   ]
  },
  {
   "cell_type": "code",
   "execution_count": 133,
   "id": "6e78d18f",
   "metadata": {},
   "outputs": [],
   "source": [
    "def makeCIlaunch(frequencyFile, ANGSDglfFile, bamsFile):\n",
    "    launch_pairs = open(\"./CI/ngs_CI_launch.sh\",\"w\")\n",
    "    pairCombos = open(\"./CI/pairs.csv\", \"r\")\n",
    "\n",
    "    for line in pairCombos:\n",
    "        line = line.strip()\n",
    "        line=line.split(\",\")\n",
    "        a = line[0]\n",
    "        b = line[1]\n",
    "\n",
    "        launch_pairs.write('ngsRelate -f '+frequencyFile+' -g '+ ANGSDglfFile+' -n 200 -z '+bamsFile+' -O CI/'+a+'_'+b+'_CI_output.res -a '+a+ ' -b '+b+ ' -B 10000')\n",
    "        launch_pairs.write('\\n')\n",
    "\n",
    "\n",
    "    launch_pairs.close()"
   ]
  },
  {
   "cell_type": "code",
   "execution_count": 134,
   "id": "0f317d32",
   "metadata": {},
   "outputs": [],
   "source": [
    "makeCIlaunch(\"Output/allele_freq\",'Output/geno_likely.glf.gz','Data/bams')"
   ]
  },
  {
   "cell_type": "code",
   "execution_count": 138,
   "id": "3257c285",
   "metadata": {},
   "outputs": [
    {
     "name": "stdout",
     "output_type": "stream",
     "text": [
      "CPU times: user 127 ms, sys: 66.8 ms, total: 193 ms\n",
      "Wall time: 34min 40s\n"
     ]
    }
   ],
   "source": [
    "%%time\n",
    "%%capture ngsBootstrap\n",
    "%%bash\n",
    "bash CI/ngs_CI_launch.sh"
   ]
  },
  {
   "cell_type": "code",
   "execution_count": 143,
   "id": "001cf0f8",
   "metadata": {},
   "outputs": [],
   "source": [
    "%%bash\n",
    "cd CI\n",
    "> CI_R_launch\n",
    "for file in *.res; do\n",
    "echo \"Rscript get_CI.R $file ../Output/CI_output.csv\" >> CI_R_launch;\n",
    "done\n",
    "> ../Output/CI_output.csv\n",
    "echo \"a,b,rab_lower,rab_upper,R0_lower,R0_upper,R1_lower,R1_upper\" >> ../Output/CI_output.csv\n",
    "bash CI_R_launch"
   ]
  },
  {
   "cell_type": "code",
   "execution_count": 83,
   "id": "86611d24",
   "metadata": {},
   "outputs": [
    {
     "data": {
      "image/png": "[encoded data removed]"
     },
     "metadata": {},
     "output_type": "display_data"
    }
   ],
   "source": [
    "%%R\n",
    "bootstrapCI <- read.csv('Output/CI_output.csv') \n",
    "sibPairs <- merge(sibPairs, bootstrapCI)\n",
    "ggplot(sibPairs, aes(x=reorder(family.A, rab), y=rab)) +\n",
    "    geom_point() + \n",
    "    theme_bw() + theme(axis.text.x = element_blank(), panel.grid.major = element_blank(), \n",
    "                       panel.grid.minor = element_blank() ) +\n",
    "    geom_pointrange(aes(ymin = rab_lower, ymax = rab_upper),width=0.1, alpha = 0.5) +\n",
    "    geom_text_repel(data=sibPairs%>%filter(family.A=='28'),aes(x=reorder(family.A, rab), label=family.A))\n"
   ]
  },
  {
   "cell_type": "markdown",
   "id": "53f4fc1f",
   "metadata": {},
   "source": [
    "### Colony"
   ]
  },
  {
   "cell_type": "markdown",
   "id": "a378f9bb",
   "metadata": {},
   "source": [
    "##### Preparing Input"
   ]
  },
  {
   "cell_type": "code",
   "execution_count": 23,
   "id": "736b8d5f",
   "metadata": {},
   "outputs": [],
   "source": [
    "%%R\n",
    "# Creating table containing information on each sample (File, ngsID, sample.num, family, ... )\n",
    "sample_A <- subset(ngs, select=c(1,3,12,14,16,18,20)) # Select columns from ngs we are interested in (a)\n",
    "sample_A <- sample_A[!duplicated(sample_A),] # Remove duplicate records\n",
    "colnames(sample_A) <- c('sample.ID','ID','sample.num','family','mother','child','replic') # Change col names\n",
    "\n",
    "sample_B <- subset(ngs, select=c(2,4,13,15,17,19,21)) # Repeat the same process for the 'b' records\n",
    "sample_B <- sample_B[!duplicated(sample_B),]\n",
    "colnames(sample_B) <- c('sample.ID','ID','sample.num','family','mother','child','replic')\n",
    "\n",
    "sample_info <- rbind(sample_A, sample_B) # Add their rows together (stack on top of each other)\n",
    "sample_info <- sample_info[!duplicated(sample_info),] # Remove duplicates\n",
    "write.table(sample_info, 'SampleData/sample_info.txt', sep=\"\\t\", row.names=FALSE, col.names=TRUE, quote = FALSE ) # Write to file"
   ]
  },
  {
   "cell_type": "code",
   "execution_count": 276,
   "id": "db991c94",
   "metadata": {},
   "outputs": [],
   "source": [
    "%%R\n",
    "getColonyInput <- function(ngs, genoFile, sample_info){\n",
    "    ### MARKER INFO\n",
    "    geno <- read.delim(genoFile, header=FALSE) # Read geno file\n",
    "    geno <- subset(geno, select=c(3:202)) # Get rid of columns we don't need\n",
    "    geno <- data.frame(t(geno)) # Transpose dataframe (switch columns/rows)\n",
    "    rownames(geno) <- 1:200 # Change row names\n",
    " \n",
    "    baseToInt <- function(x){ # Function converts nucleotide to integer\n",
    "        if (x=='C'){return(1)} else if(x=='G'){return(2)}\n",
    "            else if(x=='T'){return(3)} else if(x=='A'){return(4)}\n",
    "                else{return(0)}}\n",
    "    \n",
    "    geno_new <- data.frame('index'=c(0:199)) # Create new dataframe\n",
    "    for (col in colnames(geno)){ # Iterate through columns of geno dataframe\n",
    "        \n",
    "        col.1 = paste('mk',substr(col, 2,nchar(col)),'-1',sep='') # Make new col name ex. mk1-1\n",
    "        geno_new[col.1] <- unlist(lapply(geno[,col], function(x) {baseToInt(substr(x,1,1))})) # Add column with 1st allele\n",
    "        \n",
    "        col.2 = paste('mk',substr(col, 2,nchar(col)),'-2',sep='') # Make other col name ex. mk1-2\n",
    "        geno_new[col.2] <- unlist(lapply(geno[,col], function(x) {baseToInt(substr(x,2,2))})) # Add column with 2nd allele\n",
    "    }\n",
    "          \n",
    "    geno <- merge(sample_info, geno_new, by.x='ID', by.y=\"index\") # Merge with sample information\n",
    "    write.table(geno, 'ColonyInput/all_geno.txt', sep=\"\\t\", row.names=FALSE, col.names=FALSE, quote = FALSE ) # write to table\n",
    "           \n",
    "    # Offspring subset\n",
    "    geno.child <- geno %>% filter(child==TRUE, replic==FALSE) %>% subset(select=c(3, 8:6813)) # Subset\n",
    "    write.table(geno.child, 'ColonyInput/offspring_geno.txt', sep=\"\\t\", row.names=FALSE, col.names=FALSE, quote = FALSE ) # write to table\n",
    "    \n",
    "    # Maternal subset\n",
    "    geno.maternal <- geno %>% filter(mother==TRUE, replic==FALSE) %>% subset(select=c(3, 8:6813)) # Subset\n",
    "    write.table(geno.maternal, 'ColonyInput/maternal_geno.txt', sep=\"\\t\", row.names=FALSE, col.names=FALSE, quote = FALSE ) # write to table\n",
    "    \n",
    "    # Replicates subset    \n",
    "    geno.replicates <- geno %>% filter(replic==TRUE) %>% subset(select=c(3, 8:6813)) # Subset\n",
    "    geno.replicates$sample.num <- unlist(lapply(geno.replicates$sample.num, function(x)  # Replace space with underscore  \n",
    "        {paste(unlist(strsplit(x, \" \"))[1], unlist(strsplit(x, \" \"))[2], sep=\"_\")}))\n",
    "    sampleNumReplic <- unlist(lapply(geno.replicates$sample.num, function(x) {unlist(strsplit(x, \"_\"))[1]} )) # Ex. getting \"43A\" from \"43A replic.\"\n",
    "    geno.replicates <- rbind(geno.replicates, geno %>% filter(sample.num %in% sampleNumReplic)  %>% subset(select=c(3, 8:6813))) # Adding replicate rows.\n",
    "    write.table(geno.replicates, 'ColonyInput/replicates_geno.txt', sep=\"\\t\", row.names=FALSE, col.names=FALSE, quote = FALSE ) # write to table\n",
    " \n",
    "        \n",
    "    ### Creating Family Structure Table (rows look like: 1 -> 1a -> 1b) i.e. mother ID followed by offsrping.\n",
    "    # *NOTE: we have one instance (siblings 63A and 63B) where there is no data on the mother.\n",
    "    nrows = length(geno.maternal$sample.num)\n",
    "    fam_str <- data.frame(rep(NA,nrows), rep(NA,nrows), rep(NA,nrows)) # Create empty dataframe\n",
    "    rownames(fam_str) <- geno.maternal$sample.num # set index equal to maternal sample numbers\n",
    "    colnames(fam_str) <- c(1,2,3) # Change column names (allows for easy indexing)\n",
    "    offspring <- sample_info%>%filter(mother==FALSE, replic==FALSE)%>%subset(select=c(3,4)) #Filter out mothers/replicates\n",
    "        \n",
    "    for (i in 1:length(offspring$family)){ # Iterate through each row in offspring table\n",
    "        family = offspring$family[i] # ex. family = '1'\n",
    "        sample.num = offspring$sample.num[i] #ex. sample.num = '1a'\n",
    "        if (family %in% rownames(fam_str) & is.na(fam_str[family,1])){ # \"If family is a valid mother ID and 1st cell in row with family is empty\"\n",
    "            fam_str[family,1] = sample.num # Put in sample number\n",
    "        } else if (family %in% rownames(fam_str) & is.na(fam_str[family,2])){ # and so on for the next cells...\n",
    "            fam_str[family,2] = sample.num\n",
    "        } else if (family %in% rownames(fam_str) & is.na(fam_str[family,3])){\n",
    "            fam_str[family,3] = sample.num}\n",
    "    } \n",
    "     \n",
    "    write.table(fam_str, \"ColonyInput/family_structure.txt\", sep=\"\\t\", row.names=TRUE, col.names=FALSE, na=\"\", quote = FALSE ) # write to table       \n",
    "}    "
   ]
  },
  {
   "cell_type": "code",
   "execution_count": 277,
   "id": "5b328f7e",
   "metadata": {},
   "outputs": [],
   "source": [
    "%%R\n",
    "getColonyInput(ngs, './Output/geno_call.geno.gz', sample_info)"
   ]
  },
  {
   "cell_type": "code",
   "execution_count": 266,
   "id": "1c3c2fde",
   "metadata": {},
   "outputs": [
    {
     "name": "stdout",
     "output_type": "stream",
     "text": [
      "CPU times: user 95.3 ms, sys: 7.75 ms, total: 103 ms\n",
      "Wall time: 43.6 s\n"
     ]
    }
   ],
   "source": [
    "%%time\n",
    "%%capture\n",
    "%%bash\n",
    "cd ../Programs/COLONY\n",
    "./colony2s.ifort.out IFN:../../DeerProject/ColonyInput/replicates.Dat"
   ]
  },
  {
   "cell_type": "code",
   "execution_count": 267,
   "id": "12a1301c",
   "metadata": {},
   "outputs": [],
   "source": [
    "%%bash\n",
    "mv ../Programs/COLONY/deerReplicates.* ColonyOutput/deerReplicates"
   ]
  },
  {
   "cell_type": "code",
   "execution_count": 268,
   "id": "fa4456b3",
   "metadata": {
    "scrolled": true
   },
   "outputs": [
    {
     "data": {
      "text/html": [
       "<div>\n",
       "<style scoped>\n",
       "    .dataframe tbody tr th:only-of-type {\n",
       "        vertical-align: middle;\n",
       "    }\n",
       "\n",
       "    .dataframe tbody tr th {\n",
       "        vertical-align: top;\n",
       "    }\n",
       "\n",
       "    .dataframe thead th {\n",
       "        text-align: right;\n",
       "    }\n",
       "</style>\n",
       "<table border=\"1\" class=\"dataframe\">\n",
       "  <thead>\n",
       "    <tr style=\"text-align: right;\">\n",
       "      <th></th>\n",
       "      <th>StartDropRate</th>\n",
       "      <th>DropRateEst</th>\n",
       "      <th>DropRateCI95LB</th>\n",
       "      <th>DropRateCI95UB</th>\n",
       "      <th>StartOtherErrorRate</th>\n",
       "      <th>OtherErrorRateEst</th>\n",
       "      <th>OtherErrorRateCI95LB</th>\n",
       "      <th>OtherErrorRateCI95UB</th>\n",
       "    </tr>\n",
       "  </thead>\n",
       "  <tbody>\n",
       "    <tr>\n",
       "      <th>count</th>\n",
       "      <td>2582.00</td>\n",
       "      <td>2582.0000</td>\n",
       "      <td>2582.0000</td>\n",
       "      <td>2582.0000</td>\n",
       "      <td>2582.0000</td>\n",
       "      <td>2582.0000</td>\n",
       "      <td>2582.0000</td>\n",
       "      <td>2582.0000</td>\n",
       "    </tr>\n",
       "    <tr>\n",
       "      <th>mean</th>\n",
       "      <td>0.05</td>\n",
       "      <td>0.0519</td>\n",
       "      <td>0.0012</td>\n",
       "      <td>0.4291</td>\n",
       "      <td>0.0001</td>\n",
       "      <td>0.0073</td>\n",
       "      <td>0.0000</td>\n",
       "      <td>0.4827</td>\n",
       "    </tr>\n",
       "    <tr>\n",
       "      <th>std</th>\n",
       "      <td>0.00</td>\n",
       "      <td>0.1926</td>\n",
       "      <td>0.0133</td>\n",
       "      <td>0.2237</td>\n",
       "      <td>0.0000</td>\n",
       "      <td>0.0250</td>\n",
       "      <td>0.0000</td>\n",
       "      <td>0.2154</td>\n",
       "    </tr>\n",
       "    <tr>\n",
       "      <th>min</th>\n",
       "      <td>0.05</td>\n",
       "      <td>0.0000</td>\n",
       "      <td>0.0000</td>\n",
       "      <td>0.0926</td>\n",
       "      <td>0.0001</td>\n",
       "      <td>0.0000</td>\n",
       "      <td>0.0000</td>\n",
       "      <td>0.0098</td>\n",
       "    </tr>\n",
       "    <tr>\n",
       "      <th>25%</th>\n",
       "      <td>0.05</td>\n",
       "      <td>0.0000</td>\n",
       "      <td>0.0000</td>\n",
       "      <td>0.2430</td>\n",
       "      <td>0.0001</td>\n",
       "      <td>0.0000</td>\n",
       "      <td>0.0000</td>\n",
       "      <td>0.3197</td>\n",
       "    </tr>\n",
       "    <tr>\n",
       "      <th>50%</th>\n",
       "      <td>0.05</td>\n",
       "      <td>0.0000</td>\n",
       "      <td>0.0000</td>\n",
       "      <td>0.4220</td>\n",
       "      <td>0.0001</td>\n",
       "      <td>0.0000</td>\n",
       "      <td>0.0000</td>\n",
       "      <td>0.4274</td>\n",
       "    </tr>\n",
       "    <tr>\n",
       "      <th>75%</th>\n",
       "      <td>0.05</td>\n",
       "      <td>0.0000</td>\n",
       "      <td>0.0000</td>\n",
       "      <td>0.5062</td>\n",
       "      <td>0.0001</td>\n",
       "      <td>0.0000</td>\n",
       "      <td>0.0000</td>\n",
       "      <td>0.5877</td>\n",
       "    </tr>\n",
       "    <tr>\n",
       "      <th>max</th>\n",
       "      <td>0.05</td>\n",
       "      <td>1.0000</td>\n",
       "      <td>0.1675</td>\n",
       "      <td>1.0000</td>\n",
       "      <td>0.0001</td>\n",
       "      <td>0.2612</td>\n",
       "      <td>0.0002</td>\n",
       "      <td>1.0000</td>\n",
       "    </tr>\n",
       "  </tbody>\n",
       "</table>\n",
       "</div>"
      ],
      "text/plain": [
       "       StartDropRate  DropRateEst  DropRateCI95LB  DropRateCI95UB  \\\n",
       "count        2582.00    2582.0000       2582.0000       2582.0000   \n",
       "mean            0.05       0.0519          0.0012          0.4291   \n",
       "std             0.00       0.1926          0.0133          0.2237   \n",
       "min             0.05       0.0000          0.0000          0.0926   \n",
       "25%             0.05       0.0000          0.0000          0.2430   \n",
       "50%             0.05       0.0000          0.0000          0.4220   \n",
       "75%             0.05       0.0000          0.0000          0.5062   \n",
       "max             0.05       1.0000          0.1675          1.0000   \n",
       "\n",
       "       StartOtherErrorRate  OtherErrorRateEst  OtherErrorRateCI95LB  \\\n",
       "count            2582.0000          2582.0000             2582.0000   \n",
       "mean                0.0001             0.0073                0.0000   \n",
       "std                 0.0000             0.0250                0.0000   \n",
       "min                 0.0001             0.0000                0.0000   \n",
       "25%                 0.0001             0.0000                0.0000   \n",
       "50%                 0.0001             0.0000                0.0000   \n",
       "75%                 0.0001             0.0000                0.0000   \n",
       "max                 0.0001             0.2612                0.0002   \n",
       "\n",
       "       OtherErrorRateCI95UB  \n",
       "count             2582.0000  \n",
       "mean                 0.4827  \n",
       "std                  0.2154  \n",
       "min                  0.0098  \n",
       "25%                  0.3197  \n",
       "50%                  0.4274  \n",
       "75%                  0.5877  \n",
       "max                  1.0000  "
      ]
     },
     "execution_count": 268,
     "metadata": {},
     "output_type": "execute_result"
    }
   ],
   "source": [
    "replicErrorRates = pd.read_csv('ColonyOutput/deerReplicates/deerReplicates.ErrorRate')\n",
    "replicErrorRates.describe().round(4)"
   ]
  },
  {
   "cell_type": "code",
   "execution_count": 272,
   "id": "c238488a",
   "metadata": {},
   "outputs": [],
   "source": [
    "with open('ColonyInput/sibsMarkerInfo.txt','w') as markerFile:\n",
    "    markerFile.write('mk@\\n')\n",
    "    markerFile.write('0@\\n')\n",
    "    markerFile.write(replicErrorRates['DropRateEst'].mean().round(4).astype('str') + '@\\n')\n",
    "    markerFile.write(replicErrorRates['OtherErrorRateEst'].mean().round(4).astype('str') + '@\\n')"
   ]
  },
  {
   "cell_type": "markdown",
   "id": "4b8268bd",
   "metadata": {},
   "source": [
    "COLONY run for sibship inferences using estimated average alleic dropout rate and other error rate from replicates."
   ]
  },
  {
   "cell_type": "code",
   "execution_count": 109,
   "id": "74975df8",
   "metadata": {},
   "outputs": [],
   "source": [
    "%%capture ColonySibs1\n",
    "%%time\n",
    "%%bash\n",
    "cd ../Programs/COLONY\n",
    "./colony2s.ifort.out IFN:../../DeerProject/ColonyInput/sibs.Dat"
   ]
  },
  {
   "cell_type": "code",
   "execution_count": 110,
   "id": "f3596f93",
   "metadata": {},
   "outputs": [],
   "source": [
    "%%bash\n",
    "mv ../Programs/COLONY/deerSibs.* ColonyOutput/deerSibs"
   ]
  },
  {
   "cell_type": "markdown",
   "id": "7326f46f",
   "metadata": {},
   "source": [
    "COLONY run for sibship inferences using loci specific error rates from inferred pedigree."
   ]
  },
  {
   "cell_type": "code",
   "execution_count": 111,
   "id": "39e1d7d8",
   "metadata": {},
   "outputs": [],
   "source": [
    "%%R\n",
    "error_rates <- read.csv(\"./ColonyOutput/deerSibs/deerSibs.ErrorRate\")\n",
    "error_rates$dominance = 0\n",
    "error_rates$OtherErrorRateEst <- sapply(error_rates$OtherErrorRateEst, function(x){if (x==0){return(0.0001)}else{return(x)}})\n",
    "error_rates <- t(error_rates[,c(1,10,3,7)])\n",
    "write.table(error_rates, \"ColonyInput/sibs2MarkerInfo.txt\", sep=\"\\t\", row.names=FALSE, col.names=FALSE, quote = FALSE )"
   ]
  },
  {
   "cell_type": "code",
   "execution_count": 12,
   "id": "c213b4e8",
   "metadata": {},
   "outputs": [
    {
     "name": "stdout",
     "output_type": "stream",
     "text": [
      "CPU times: user 27.3 s, sys: 4.02 s, total: 31.3 s\n",
      "Wall time: 2h 38min 16s\n"
     ]
    }
   ],
   "source": [
    "%%time\n",
    "%%capture ColonySibs2\n",
    "%%bash\n",
    "cd ../Programs/COLONY\n",
    "./colony2s.ifort.out IFN:../../DeerProject/ColonyInput/sibs2.Dat"
   ]
  },
  {
   "cell_type": "code",
   "execution_count": 15,
   "id": "c02de683",
   "metadata": {},
   "outputs": [],
   "source": [
    "%%bash\n",
    "mv ../Programs/COLONY/deerSibs2.* ColonyOutput/deerSibs2"
   ]
  },
  {
   "cell_type": "markdown",
   "id": "0a316435",
   "metadata": {},
   "source": [
    "### Results"
   ]
  },
  {
   "cell_type": "code",
   "execution_count": 84,
   "id": "e01a11e3",
   "metadata": {},
   "outputs": [
    {
     "name": "stdout",
     "output_type": "stream",
     "text": [
      "  OffspringID1 OffspringID2 Prob.Half Prob.Full assignment Same.Family\n",
      "1          10A          10B     0.000     1.000       Full        TRUE\n",
      "2          11A          11B     0.000     1.000       Full        TRUE\n",
      "4          12B          12A     0.693     0.307    Unknown        TRUE\n",
      "6          13A          13B     1.000     0.000       Half        TRUE\n",
      "7          14B          14A     1.000     0.000       Half        TRUE\n",
      "8          15A          15B     1.000     0.000       Half        TRUE\n"
     ]
    }
   ],
   "source": [
    "%%R\n",
    "halfSibDyad <- read.csv('ColonyOutput/deerSibs2/deerSibs2.HalfSibDyad') # Read in COLONY output for half sibs\n",
    "colnames(halfSibDyad)[3] <- 'Prob.Half' # Change column name\n",
    "fullSibDyad <- read.csv('ColonyOutput/deerSibs2/deerSibs2.FullSibDyad') # Read in COLONY output for full sibs\n",
    "colnames(fullSibDyad)[3] <- 'Prob.Full' # Change column name\n",
    "# Merge fullSib and halfSib dataframes \n",
    "Sib.Pairs <- merge(halfSibDyad, fullSibDyad, by.x= c('OffspringID1','OffspringID2'), by.y = c('OffspringID1','OffspringID2'), all.x =TRUE, all.y = TRUE )\n",
    "Sib.Pairs[is.na(Sib.Pairs)] <- 0 # Replace NAs with 0s\n",
    "sibAssignFunc <- function(x,y){if (x>0.95){return(\"Half\")} else if(y>0.95){return(\"Full\")} else{return('Unknown')}} # 0.95 is our probability cutoff\n",
    "Sib.Pairs$assignment <- mapply(sibAssignFunc, Sib.Pairs$Prob.Half, Sib.Pairs$Prob.Full ) # Apply previous function to our half/full probabilities\n",
    "\n",
    "findFamily <- function(sampleID){ # Function that inputs sample ID and outputs family. Ex. '10A' -> '10'\n",
    "        family = ''\n",
    "        for (char in strsplit(sampleID,\"\")[[1]]){\n",
    "            if (!is.na(as.numeric(char))){\n",
    "                family = paste(family, char, sep = '')}\n",
    "            else{break}}\n",
    "        return (family)}\n",
    "\n",
    "\n",
    "removeNonFam <- function(x,y){return(findFamily(x)==findFamily(y))} # Returns true if familes are the same. Ex. (10A, 10B) -> TRUE\n",
    "Sib.Pairs$Same.Family <- mapply(removeNonFam, Sib.Pairs$OffspringID1, Sib.Pairs$OffspringID2) # Applies previous function to our dataframe\n",
    "Sib.Pairs <- Sib.Pairs[Sib.Pairs$Same.Family,] # Remove entries that are not of the same family\n",
    "head(Sib.Pairs) # Display results"
   ]
  },
  {
   "cell_type": "code",
   "execution_count": 85,
   "id": "b2068222",
   "metadata": {},
   "outputs": [],
   "source": [
    "%%R\n",
    "sibPairs <- left_join(sibPairs, Sib.Pairs, by = c('sample.num.A' = 'OffspringID1', 'sample.num.B' = 'OffspringID2'))"
   ]
  },
  {
   "cell_type": "code",
   "execution_count": 86,
   "id": "d88b9817",
   "metadata": {},
   "outputs": [
    {
     "name": "stderr",
     "output_type": "stream",
     "text": [
      "R[write to console]: Scale for 'colour' is already present. Adding another scale for 'colour',\n",
      "which will replace the existing scale.\n",
      "\n"
     ]
    },
    {
     "data": {
      "image/png": "[encoded data removed]"
     },
     "metadata": {},
     "output_type": "display_data"
    },
    {
     "data": {
      "image/png": "[encoded data removed]"
     },
     "metadata": {},
     "output_type": "display_data"
    }
   ],
   "source": [
    "%%R\n",
    "p1 <- ggplot(sibPairs, aes(x=reorder(family.A, rab), y=rab, color=assignment)) +\n",
    "    geom_point() + \n",
    "    theme_bw() + \n",
    "    theme(panel.grid.major = element_blank(), panel.grid.minor = element_blank(),\n",
    "          panel.background = element_blank(), axis.line = element_line(colour = \"black\"), \n",
    "          axis.text.x = element_blank(),\n",
    "          plot.caption.position = \"plot\",\n",
    "          plot.caption = element_text(hjust = 0)) +\n",
    "    geom_pointrange(aes(ymin = rab_lower, ymax = rab_upper),width=0.1, alpha = 0.5) +\n",
    "    labs(color='assignment') +  \n",
    "    xlab(\"Litter (ordered by relatedness)\") +\n",
    "    ylab(\"Relatedness\") +\n",
    "    scale_color_manual(values=c(\"#EE8866\", \"#44BB99\", \"#BBCC33\"))\n",
    "\n",
    "p2 <- p1 + scale_color_manual(values=c(\"grey70\", \"grey10\", \"grey40\"))\n",
    "print(p1)\n",
    "print(p2)"
   ]
  },
  {
   "cell_type": "code",
   "execution_count": 87,
   "id": "3069cc1e",
   "metadata": {},
   "outputs": [],
   "source": [
    "%%R\n",
    "family <- unlist(lapply(Sib.Pairs$OffspringID1, function(x){findFamily(x)}))\n",
    "familyUnique <- unique(family)\n",
    "familyAssignments <- data.frame(rep(0,length(familyUnique)))\n",
    "colnames(familyAssignments) <- c(\"Evd.Of.Mult.Pat\")\n",
    "rownames(familyAssignments) <- familyUnique\n",
    "for (i in 1:length(Sib.Pairs$OffspringID1)){\n",
    "    family = findFamily(Sib.Pairs$OffspringID1[i])\n",
    "    if (Sib.Pairs$assignment[i] == 'Half'){\n",
    "        familyAssignments[family, 1] = 1\n",
    "    }\n",
    "    else if (Sib.Pairs$assignment[i] == 'Unknown'){\n",
    "        familyAssignments[family, 1] = 'Unknown'\n",
    "    }\n",
    "}"
   ]
  },
  {
   "cell_type": "code",
   "execution_count": 88,
   "id": "ee0072e3",
   "metadata": {},
   "outputs": [
    {
     "name": "stdout",
     "output_type": "stream",
     "text": [
      "[1] 0.2241379\n"
     ]
    }
   ],
   "source": [
    "%%R\n",
    "known <- familyAssignments %>% filter(Evd.Of.Mult.Pat != 'Unknown')\n",
    "mean(as.numeric(known$Evd.Of.Mult.Pat))"
   ]
  },
  {
   "cell_type": "code",
   "execution_count": 89,
   "id": "0b7e545f",
   "metadata": {},
   "outputs": [
    {
     "name": "stdout",
     "output_type": "stream",
     "text": [
      "   Evd.Of.Mult.Pat\n",
      "10               0\n",
      "11               0\n",
      "12         Unknown\n",
      "13               1\n",
      "14               1\n",
      "15               1\n",
      "16               0\n",
      "17               1\n",
      "1          Unknown\n",
      "20               0\n",
      "21               0\n",
      "22               0\n",
      "24               0\n",
      "26               0\n",
      "27               0\n",
      "28               0\n",
      "29               1\n",
      "2                1\n",
      "30               0\n",
      "31               0\n",
      "32               0\n",
      "33               0\n",
      "34               0\n",
      "35               0\n",
      "36               1\n",
      "37               1\n",
      "38               0\n",
      "39               0\n",
      "3          Unknown\n",
      "40               0\n",
      "41               0\n",
      "42               0\n",
      "43               0\n",
      "44               1\n",
      "45               1\n",
      "46               0\n",
      "47               0\n",
      "48               0\n",
      "49               0\n",
      "4                0\n",
      "50               0\n",
      "51               1\n",
      "52               0\n",
      "53               0\n",
      "54               0\n",
      "55               0\n",
      "56               0\n",
      "57               0\n",
      "58               0\n",
      "59               0\n",
      "5                0\n",
      "60               0\n",
      "61               0\n",
      "62               0\n",
      "63               1\n",
      "64               0\n",
      "65               0\n",
      "66               0\n",
      "67               1\n",
      "68               0\n",
      "8                0\n",
      "9          Unknown\n"
     ]
    }
   ],
   "source": [
    "%%R\n",
    "familyAssignments"
   ]
  },
  {
   "cell_type": "code",
   "execution_count": 90,
   "id": "a0edc3eb",
   "metadata": {},
   "outputs": [
    {
     "name": "stdout",
     "output_type": "stream",
     "text": [
      "\n",
      "      0       1 Unknown \n",
      "     45      13       4 \n"
     ]
    }
   ],
   "source": [
    "%%R\n",
    "table(familyAssignments$Evd.Of.Mult.Pat)"
   ]
  },
  {
   "cell_type": "code",
   "execution_count": 91,
   "id": "6ddc61f5",
   "metadata": {},
   "outputs": [
    {
     "data": {
      "image/png": "[encoded data removed]"
     },
     "metadata": {},
     "output_type": "display_data"
    }
   ],
   "source": [
    "%%R\n",
    "pieDist <- data.frame(group=c('Unknown','Single','Multiple'), value=c(4,45,13))\n",
    "ggplot(pieDist, aes(x='', y=value, fill=group)) + \n",
    "    geom_bar(stat=\"identity\",width=1,color='white') + \n",
    "    coord_polar('y',start=0) +\n",
    "    theme_void()"
   ]
  },
  {
   "cell_type": "markdown",
   "id": "1f117944",
   "metadata": {},
   "source": [
    "### SNP distribution for sibling pairs"
   ]
  },
  {
   "cell_type": "code",
   "execution_count": 92,
   "id": "9001c73e",
   "metadata": {},
   "outputs": [
    {
     "data": {
      "image/png": "[encoded data removed]"
     },
     "metadata": {},
     "output_type": "display_data"
    }
   ],
   "source": [
    "%%R\n",
    "ggplot(sibPairs, aes(x=nSites, fill = assignment, color = assignment)) +\n",
    "    geom_histogram(bins = 20, position='identity', alpha=0.5) +\n",
    "    theme_bw() +\n",
    "    ggtitle(\"SNP count distribution\")"
   ]
  },
  {
   "cell_type": "code",
   "execution_count": 47,
   "id": "a79db3a6",
   "metadata": {},
   "outputs": [
    {
     "data": {
      "image/png": "[encoded data removed]"
     },
     "metadata": {},
     "output_type": "display_data"
    }
   ],
   "source": [
    "%%R\n",
    "ggplot(sibPairs, aes(x=assignment, y=nSites, fill=assignment)) +\n",
    "  geom_boxplot() +\n",
    "  theme_classic()\n"
   ]
  },
  {
   "cell_type": "markdown",
   "id": "c83a662e",
   "metadata": {},
   "source": [
    "### Coverage depth for sibling pairs"
   ]
  },
  {
   "cell_type": "code",
   "execution_count": 93,
   "id": "b84f5509",
   "metadata": {},
   "outputs": [],
   "source": [
    "%%R \n",
    "sibPairs$min_med_depth <- mapply(function(x,y){return(min(x,y))},sibPairs$median_depth.x, sibPairs$median_depth.y)\n",
    "sibPairs$min_avg_depth <- mapply(function(x,y){return(min(x,y))},sibPairs$average_depth.x, sibPairs$average_depth.y)\n",
    "sibPairs$avg_med_depth <- mapply(function(x,y){return(mean(c(x,y)))},sibPairs$median_depth.x, sibPairs$median_depth.y)\n",
    "sibPairs$avg_avg_depth <- mapply(function(x,y){return(mean(c(x,y)))},sibPairs$average_depth.x, sibPairs$average_depth.y)"
   ]
  },
  {
   "cell_type": "code",
   "execution_count": 49,
   "id": "1f49f946",
   "metadata": {},
   "outputs": [
    {
     "data": {
      "image/png": "[encoded data removed]"
     },
     "metadata": {},
     "output_type": "display_data"
    }
   ],
   "source": [
    "%%R\n",
    "ggplot(sibPairs, aes(x=assignment, y=min_med_depth, fill=assignment)) + \n",
    "    geom_boxplot() +\n",
    "    theme_classic()"
   ]
  },
  {
   "cell_type": "code",
   "execution_count": 50,
   "id": "89ef16d4",
   "metadata": {},
   "outputs": [
    {
     "data": {
      "image/png": "[encoded data removed]"
     },
     "metadata": {},
     "output_type": "display_data"
    }
   ],
   "source": [
    "%%R\n",
    "ggplot(sibPairs, aes(x=assignment, y=min_avg_depth, fill=assignment)) + \n",
    "    geom_boxplot() +\n",
    "    theme_classic()"
   ]
  },
  {
   "cell_type": "code",
   "execution_count": 51,
   "id": "f731969b",
   "metadata": {},
   "outputs": [
    {
     "data": {
      "image/png": "[encoded data removed]"
     },
     "metadata": {},
     "output_type": "display_data"
    }
   ],
   "source": [
    "%%R\n",
    "ggplot(sibPairs, aes(x=assignment, y=avg_med_depth, fill=assignment)) + \n",
    "    geom_boxplot() +\n",
    "    theme_classic()"
   ]
  },
  {
   "cell_type": "code",
   "execution_count": 52,
   "id": "ab9b2c37",
   "metadata": {},
   "outputs": [
    {
     "data": {
      "image/png": "[encoded data removed]"
     },
     "metadata": {},
     "output_type": "display_data"
    }
   ],
   "source": [
    "%%R\n",
    "ggplot(sibPairs, aes(x=assignment, y=avg_avg_depth, fill=assignment)) + \n",
    "    geom_boxplot() +\n",
    "    theme_classic()"
   ]
  },
  {
   "cell_type": "code",
   "execution_count": 94,
   "id": "3fea01b2",
   "metadata": {},
   "outputs": [
    {
     "name": "stdout",
     "output_type": "stream",
     "text": [
      "\n",
      "Call:\n",
      "glm(formula = factor(assignment) ~ avg_med_depth + nSites + nSites * \n",
      "    avg_med_depth, family = \"binomial\", data = sibPairsKnown)\n",
      "\n",
      "Deviance Residuals: \n",
      "    Min       1Q   Median       3Q      Max  \n",
      "-1.4677  -0.6703  -0.5222  -0.2983   2.1541  \n",
      "\n",
      "Coefficients:\n",
      "                       Estimate Std. Error z value Pr(>|z|)\n",
      "(Intercept)          -3.1793366  3.1268759  -1.017    0.309\n",
      "avg_med_depth         0.7870571  0.6002302   1.311    0.190\n",
      "nSites                0.0008185  0.0010185   0.804    0.422\n",
      "avg_med_depth:nSites -0.0002847  0.0001873  -1.520    0.129\n",
      "\n",
      "(Dispersion parameter for binomial family taken to be 1)\n",
      "\n",
      "    Null deviance: 76.370  on 77  degrees of freedom\n",
      "Residual deviance: 68.601  on 74  degrees of freedom\n",
      "AIC: 76.601\n",
      "\n",
      "Number of Fisher Scoring iterations: 5\n",
      "\n"
     ]
    }
   ],
   "source": [
    "%%R\n",
    "sibPairsKnown <- sibPairs %>% filter(assignment != 'Unknown')\n",
    "readQualityLogit <- glm(factor(assignment) ~ avg_med_depth + nSites + nSites * avg_med_depth, data= sibPairsKnown, family='binomial')\n",
    "summary(readQualityLogit)"
   ]
  },
  {
   "cell_type": "code",
   "execution_count": 54,
   "id": "a066ad76",
   "metadata": {},
   "outputs": [
    {
     "data": {
      "image/png": "[encoded data removed]"
     },
     "metadata": {},
     "output_type": "display_data"
    }
   ],
   "source": [
    "%%R\n",
    "predpr = predict(readQualityLogit, type='response')\n",
    "predlogit = predict(readQualityLogit)\n",
    "plot(jitter(ifelse(sibPairsKnown$assignment=='Half',1,0),0.1) ~ predlogit, \n",
    "xlab='predicted logit', ylab=\"Probability of Half siblings\")\n",
    "pred.ord = order(predlogit)\n",
    "lines(predlogit[pred.ord], predpr[pred.ord])\n",
    "lines (lowess(predlogit[pred.ord],predpr [pred.ord]), col='red',lty=2)"
   ]
  },
  {
   "cell_type": "markdown",
   "id": "e0eede9b",
   "metadata": {},
   "source": [
    "### Relatedness for sibling pairs"
   ]
  },
  {
   "cell_type": "code",
   "execution_count": 55,
   "id": "ee02ab50",
   "metadata": {},
   "outputs": [
    {
     "data": {
      "image/png": "[encoded data removed]"
     },
     "metadata": {},
     "output_type": "display_data"
    }
   ],
   "source": [
    "%%R\n",
    "ggplot(sibPairs, aes(x=assignment, y=rab, fill=assignment)) + \n",
    "    geom_boxplot() +\n",
    "    theme_classic()"
   ]
  },
  {
   "cell_type": "code",
   "execution_count": 56,
   "id": "1f06cc05",
   "metadata": {},
   "outputs": [
    {
     "name": "stdout",
     "output_type": "stream",
     "text": [
      "\n",
      "\tWelch Two Sample t-test\n",
      "\n",
      "data:  rab by assignment\n",
      "t = 10.327, df = 15.843, p-value = 1.93e-08\n",
      "alternative hypothesis: true difference in means between group Full and group Half is not equal to 0\n",
      "95 percent confidence interval:\n",
      " 0.1800790 0.2732057\n",
      "sample estimates:\n",
      "mean in group Full mean in group Half \n",
      "         0.4769129          0.2502705 \n",
      "\n"
     ]
    }
   ],
   "source": [
    "%%R\n",
    "t.test(rab ~ assignment, data=sibPairsKnown)"
   ]
  },
  {
   "cell_type": "markdown",
   "id": "002674a3",
   "metadata": {},
   "source": [
    "### Comparing Mother, Offspring relatedness between mult. pat and non mult. pat groups"
   ]
  },
  {
   "cell_type": "code",
   "execution_count": 95,
   "id": "436a0c58",
   "metadata": {},
   "outputs": [
    {
     "name": "stdout",
     "output_type": "stream",
     "text": [
      "'data.frame':\t112 obs. of  34 variables:\n",
      " $ family.A              : chr  \"10\" \"10\" \"11\" \"11\" ...\n",
      " $ b                     : int  97 122 160 160 142 142 72 126 91 94 ...\n",
      " $ a                     : int  25 97 123 127 74 130 14 72 87 87 ...\n",
      " $ sample.ID.A           : chr  \"S3_AGAC\" \"S9_AGAC\" \"S11_CATC\" \"S11_GTGA\" ...\n",
      " $ sample.ID.B           : chr  \"S9_AGAC\" \"S11_AGTG\" \"S14_CTAC\" \"S14_CTAC\" ...\n",
      " $ file_a                : chr  \"ILL-RAD03_S3_L001_R1_001_AGAC.trim.bt2.bam\" \"ILL-RAD09_S9_L001_R1_001_AGAC.trim.bt2.bam\" \"ILL-RAD11_S11_L001_R1_001_CATC.trim.bt2.bam\" \"ILL-RAD11_S11_L001_R1_001_GTGA.trim.bt2.bam\" ...\n",
      " $ file_b                : chr  \"ILL-RAD09_S9_L001_R1_001_AGAC.trim.bt2.bam\" \"ILL-RAD11_S11_L001_R1_001_AGTG.trim.bt2.bam\" \"ILL-RAD14_S14_L001_R1_001_CTAC.trim.bt2.bam\" \"ILL-RAD14_S14_L001_R1_001_CTAC.trim.bt2.bam\" ...\n",
      " $ nSites                : int  3361 2991 3457 3462 3280 3091 3570 3552 3389 3359 ...\n",
      " $ rab                   : num  0.474 0.494 0.458 0.458 0.511 ...\n",
      " $ Fa                    : num  0.037363 0.004812 0.044335 0.063107 0.000028 ...\n",
      " $ Fb                    : num  0.00287 0.05004 0.01457 0.00757 0 ...\n",
      " $ theta                 : num  0.238 0.255 0.237 0.239 0.256 ...\n",
      " $ inbred_relatedness_1_2: num  0.002821 0.004807 0.017647 0.035338 0.000014 ...\n",
      " $ inbred_relatedness_2_1: num  0.00285 0.02742 0.01421 0.00757 0 ...\n",
      " $ F_diff_a_b            : num  0.0173 0 0.0114 0 0 ...\n",
      " $ R0                    : num  0.0582 0.0177 0.06265 0.05325 0.00343 ...\n",
      " $ R1                    : num  0.515 0.522 0.48 0.488 0.594 ...\n",
      " $ KING                  : num  0.227 0.247 0.217 0.224 0.27 ...\n",
      " $ sample.num.A          : chr  \"10A\" \"10\" \"11A\" \"11B\" ...\n",
      " $ sample.num.B          : chr  \"10\" \"10B\" \"11\" \"11\" ...\n",
      " $ family.B              : chr  \"10\" \"10\" \"11\" \"11\" ...\n",
      " $ mother.A              : logi  FALSE TRUE FALSE FALSE FALSE FALSE ...\n",
      " $ mother.B              : logi  TRUE FALSE TRUE TRUE TRUE TRUE ...\n",
      " $ child.A               : logi  TRUE FALSE TRUE TRUE TRUE TRUE ...\n",
      " $ child.B               : logi  FALSE TRUE FALSE FALSE FALSE FALSE ...\n",
      " $ replic.A              : logi  FALSE FALSE FALSE FALSE FALSE FALSE ...\n",
      " $ replic.B              : logi  FALSE FALSE FALSE FALSE FALSE FALSE ...\n",
      " $ count_depth.x         : int  3374 2653 3009 3317 3325 3339 3338 3328 3184 3184 ...\n",
      " $ average_depth.x       : num  18.21 3.29 5.3 8.61 10.74 ...\n",
      " $ median_depth.x        : int  16 2 3 7 8 7 8 8 4 4 ...\n",
      " $ count_depth.y         : int  2653 3275 3287 3287 1481 1481 3328 3287 3247 3187 ...\n",
      " $ average_depth.y       : num  3.29 8.1 10.09 10.09 2.49 ...\n",
      " $ median_depth.y        : int  2 6 8 8 1 1 8 9 4 4 ...\n",
      " $ Evd.Of.Mult.Pat       : chr  \"0\" \"0\" \"0\" \"0\" ...\n"
     ]
    }
   ],
   "source": [
    "%%R\n",
    "motherOffspring <- ngs %>% filter(family.A == family.B & mother.A + mother.B == 1 & replic.A + replic.B == 0)\n",
    "motherOffspring <- merge(motherOffspring, familyAssignments, by.x='family.A', by.y='row.names')\n",
    "motherOffspring <- motherOffspring %>% filter(nSites > 500)\n",
    "str(motherOffspring)"
   ]
  },
  {
   "cell_type": "code",
   "execution_count": 58,
   "id": "9bfa853d",
   "metadata": {},
   "outputs": [
    {
     "data": {
      "image/png": "[encoded data removed]"
     },
     "metadata": {},
     "output_type": "display_data"
    }
   ],
   "source": [
    "%%R\n",
    "ggplot(data=motherOffspring, aes(x=rab, fill=Evd.Of.Mult.Pat, color=Evd.Of.Mult.Pat)) + \n",
    "    geom_histogram(position='identity', alpha=0.5,bins=30) +\n",
    "    geom_vline(xintercept=mean((motherOffspring %>% filter(Evd.Of.Mult.Pat == 1))$rab, na.rm=TRUE), color='green') +\n",
    "    geom_vline(xintercept=mean((motherOffspring %>% filter(Evd.Of.Mult.Pat == 0))$rab, na.rm=TRUE), color='#F8766D') +\n",
    "    theme_classic()"
   ]
  },
  {
   "cell_type": "code",
   "execution_count": 59,
   "id": "0a955560",
   "metadata": {},
   "outputs": [
    {
     "data": {
      "image/png": "[encoded data removed]"
     },
     "metadata": {},
     "output_type": "display_data"
    }
   ],
   "source": [
    "%%R\n",
    "ggplot(motherOffspring, aes(x=Evd.Of.Mult.Pat, y=rab, fill=Evd.Of.Mult.Pat)) + \n",
    "    geom_boxplot() +\n",
    "    theme_classic()"
   ]
  },
  {
   "cell_type": "code",
   "execution_count": 60,
   "id": "ca0ef9f7",
   "metadata": {},
   "outputs": [
    {
     "data": {
      "image/png": "[encoded data removed]"
     },
     "metadata": {},
     "output_type": "display_data"
    }
   ],
   "source": [
    "%%R\n",
    "qplot(sample = rab, data= motherOffspring, color=Evd.Of.Mult.Pat) +\n",
    "    theme_classic() + \n",
    "    stat_qq_line()"
   ]
  },
  {
   "cell_type": "markdown",
   "id": "b5e582fe",
   "metadata": {},
   "source": [
    "QQ plots show good evidence of normality in the non-mult. pat. group, and some deviance from normality in the mult. pat. group."
   ]
  },
  {
   "cell_type": "code",
   "execution_count": 96,
   "id": "b163bbea",
   "metadata": {},
   "outputs": [
    {
     "name": "stdout",
     "output_type": "stream",
     "text": [
      "\n",
      "\tShapiro-Wilk normality test\n",
      "\n",
      "data:  rab0\n",
      "W = 0.99561, p-value = 0.9921\n",
      "\n"
     ]
    }
   ],
   "source": [
    "%%R\n",
    "rab0 <- as.numeric(unlist(motherOffspring %>% filter(Evd.Of.Mult.Pat == 0) %>% select(rab)))\n",
    "rab1 <- as.numeric(unlist(motherOffspring %>% filter(Evd.Of.Mult.Pat == 1) %>% select(rab)))\n",
    "shapiro.test(rab0) # Very normal"
   ]
  },
  {
   "cell_type": "code",
   "execution_count": 70,
   "id": "126f6c99",
   "metadata": {},
   "outputs": [
    {
     "name": "stdout",
     "output_type": "stream",
     "text": [
      "\n",
      "\tShapiro-Wilk normality test\n",
      "\n",
      "data:  rab1\n",
      "W = 0.90138, p-value = 0.04378\n",
      "\n"
     ]
    }
   ],
   "source": [
    "%%R\n",
    "shapiro.test(rab1) # Statistically significant deviation from normality"
   ]
  },
  {
   "cell_type": "code",
   "execution_count": 97,
   "id": "065f36fe",
   "metadata": {},
   "outputs": [
    {
     "name": "stdout",
     "output_type": "stream",
     "text": [
      "\n",
      "\tF test to compare two variances\n",
      "\n",
      "data:  rab by Evd.Of.Mult.Pat\n",
      "F = 0.5851, num df = 90, denom df = 19, p-value = 0.09783\n",
      "alternative hypothesis: true ratio of variances is not equal to 1\n",
      "95 percent confidence interval:\n",
      " 0.2628871 1.1023075\n",
      "sample estimates:\n",
      "ratio of variances \n",
      "         0.5851013 \n",
      "\n"
     ]
    }
   ],
   "source": [
    "%%R\n",
    "var.test(rab ~ Evd.Of.Mult.Pat, data = (motherOffspring %>% filter(Evd.Of.Mult.Pat != 'Unknown')), alternative = 'two.sided')"
   ]
  },
  {
   "cell_type": "markdown",
   "id": "e9576977",
   "metadata": {},
   "source": [
    "Variances are not significantly different (*P = 0.09783)*"
   ]
  },
  {
   "cell_type": "code",
   "execution_count": 98,
   "id": "0ae9c530",
   "metadata": {},
   "outputs": [
    {
     "name": "stdout",
     "output_type": "stream",
     "text": [
      "\n",
      "\tWelch Two Sample t-test\n",
      "\n",
      "data:  rab0 and rab1\n",
      "t = -2.2736, df = 24.117, p-value = 0.03218\n",
      "alternative hypothesis: true difference in means is not equal to 0\n",
      "95 percent confidence interval:\n",
      " -0.035620648 -0.001726647\n",
      "sample estimates:\n",
      "mean of x mean of y \n",
      "0.4729008 0.4915744 \n",
      "\n"
     ]
    }
   ],
   "source": [
    "%%R\n",
    "t.test(rab0, rab1)"
   ]
  },
  {
   "cell_type": "markdown",
   "id": "566679e4",
   "metadata": {},
   "source": [
    "Mean relatedness between mothers and their offspring are significantly higher in mult. pat. litters than in non. mult. pat. (*P = 0.03218*)"
   ]
  },
  {
   "cell_type": "markdown",
   "id": "fa944ac9",
   "metadata": {},
   "source": [
    "Confirm with non-parametric test (Mann-Whitney U test), since there are outliers in the multiple paternity group. "
   ]
  },
  {
   "cell_type": "code",
   "execution_count": 99,
   "id": "a41edfc5",
   "metadata": {},
   "outputs": [
    {
     "name": "stdout",
     "output_type": "stream",
     "text": [
      "\n",
      "\tWilcoxon rank sum test with continuity correction\n",
      "\n",
      "data:  rab by Evd.Of.Mult.Pat\n",
      "W = 543, p-value = 0.004923\n",
      "alternative hypothesis: true location shift is not equal to 0\n",
      "95 percent confidence interval:\n",
      " -0.031959317 -0.005912661\n",
      "sample estimates:\n",
      "difference in location \n",
      "           -0.01849531 \n",
      "\n"
     ]
    }
   ],
   "source": [
    "%%R\n",
    "rabManWU <-wilcox.test(rab ~ Evd.Of.Mult.Pat, data = (motherOffspring %>% filter(Evd.Of.Mult.Pat != 'Unknown')), na.rm=TRUE, paired=FALSE, exact=FALSE, conf.int=TRUE)\n",
    "print(rabManWU)"
   ]
  },
  {
   "cell_type": "markdown",
   "id": "24f2ab97",
   "metadata": {},
   "source": [
    "Difference is more significant in non-parametric test (*P = 0.004923*)"
   ]
  },
  {
   "cell_type": "markdown",
   "id": "6db0c1b1",
   "metadata": {},
   "source": [
    "### Comparing inbreeding coefficient"
   ]
  },
  {
   "cell_type": "code",
   "execution_count": 103,
   "id": "a51586fe",
   "metadata": {},
   "outputs": [
    {
     "name": "stdout",
     "output_type": "stream",
     "text": [
      "'data.frame':\t112 obs. of  34 variables:\n",
      " $ family.A              : chr  \"10\" \"10\" \"11\" \"11\" ...\n",
      " $ b                     : int  97 122 160 160 142 142 72 126 91 94 ...\n",
      " $ a                     : int  25 97 123 127 74 130 14 72 87 87 ...\n",
      " $ sample.ID.A           : chr  \"S3_AGAC\" \"S9_AGAC\" \"S11_CATC\" \"S11_GTGA\" ...\n",
      " $ sample.ID.B           : chr  \"S9_AGAC\" \"S11_AGTG\" \"S14_CTAC\" \"S14_CTAC\" ...\n",
      " $ file_a                : chr  \"ILL-RAD03_S3_L001_R1_001_AGAC.trim.bt2.bam\" \"ILL-RAD09_S9_L001_R1_001_AGAC.trim.bt2.bam\" \"ILL-RAD11_S11_L001_R1_001_CATC.trim.bt2.bam\" \"ILL-RAD11_S11_L001_R1_001_GTGA.trim.bt2.bam\" ...\n",
      " $ file_b                : chr  \"ILL-RAD09_S9_L001_R1_001_AGAC.trim.bt2.bam\" \"ILL-RAD11_S11_L001_R1_001_AGTG.trim.bt2.bam\" \"ILL-RAD14_S14_L001_R1_001_CTAC.trim.bt2.bam\" \"ILL-RAD14_S14_L001_R1_001_CTAC.trim.bt2.bam\" ...\n",
      " $ nSites                : int  3361 2991 3457 3462 3280 3091 3570 3552 3389 3359 ...\n",
      " $ rab                   : num  0.474 0.494 0.458 0.458 0.511 ...\n",
      " $ Fa                    : num  0.037363 0.004812 0.044335 0.063107 0.000028 ...\n",
      " $ Fb                    : num  0.00287 0.05004 0.01457 0.00757 0 ...\n",
      " $ theta                 : num  0.238 0.255 0.237 0.239 0.256 ...\n",
      " $ inbred_relatedness_1_2: num  0.002821 0.004807 0.017647 0.035338 0.000014 ...\n",
      " $ inbred_relatedness_2_1: num  0.00285 0.02742 0.01421 0.00757 0 ...\n",
      " $ F_diff_a_b            : num  0.0173 0 0.0114 0 0 ...\n",
      " $ R0                    : num  0.0582 0.0177 0.06265 0.05325 0.00343 ...\n",
      " $ R1                    : num  0.515 0.522 0.48 0.488 0.594 ...\n",
      " $ KING                  : num  0.227 0.247 0.217 0.224 0.27 ...\n",
      " $ sample.num.A          : chr  \"10A\" \"10\" \"11A\" \"11B\" ...\n",
      " $ sample.num.B          : chr  \"10\" \"10B\" \"11\" \"11\" ...\n",
      " $ family.B              : chr  \"10\" \"10\" \"11\" \"11\" ...\n",
      " $ mother.A              : logi  FALSE TRUE FALSE FALSE FALSE FALSE ...\n",
      " $ mother.B              : logi  TRUE FALSE TRUE TRUE TRUE TRUE ...\n",
      " $ child.A               : logi  TRUE FALSE TRUE TRUE TRUE TRUE ...\n",
      " $ child.B               : logi  FALSE TRUE FALSE FALSE FALSE FALSE ...\n",
      " $ replic.A              : logi  FALSE FALSE FALSE FALSE FALSE FALSE ...\n",
      " $ replic.B              : logi  FALSE FALSE FALSE FALSE FALSE FALSE ...\n",
      " $ count_depth.x         : int  3374 2653 3009 3317 3325 3339 3338 3328 3184 3184 ...\n",
      " $ average_depth.x       : num  18.21 3.29 5.3 8.61 10.74 ...\n",
      " $ median_depth.x        : int  16 2 3 7 8 7 8 8 4 4 ...\n",
      " $ count_depth.y         : int  2653 3275 3287 3287 1481 1481 3328 3287 3247 3187 ...\n",
      " $ average_depth.y       : num  3.29 8.1 10.09 10.09 2.49 ...\n",
      " $ median_depth.y        : int  2 6 8 8 1 1 8 9 4 4 ...\n",
      " $ Evd.Of.Mult.Pat       : chr  \"0\" \"0\" \"0\" \"0\" ...\n"
     ]
    }
   ],
   "source": [
    "%%R\n",
    "str(motherOffspring)"
   ]
  },
  {
   "cell_type": "code",
   "execution_count": 108,
   "id": "c8fef12f",
   "metadata": {},
   "outputs": [
    {
     "data": {
      "image/png": "[encoded data removed]"
     },
     "metadata": {},
     "output_type": "display_data"
    }
   ],
   "source": [
    "%%R\n",
    "ggplot(motherOffspring, aes(x=Evd.Of.Mult.Pat, y=F_diff_a_b, fill=Evd.Of.Mult.Pat)) + \n",
    "    geom_boxplot() +\n",
    "    theme_classic()"
   ]
  },
  {
   "cell_type": "code",
   "execution_count": null,
   "id": "640e8930",
   "metadata": {},
   "outputs": [],
   "source": [
    "### Put packages and versions in notebook"
   ]
  },
  {
   "cell_type": "code",
   "execution_count": null,
   "id": "12118ceb",
   "metadata": {},
   "outputs": [],
   "source": [
    "# Poster dimensions: 42 x 36. Posters due Dec. 8. Finalized week before"
   ]
  },
  {
   "cell_type": "markdown",
   "id": "827fb774",
   "metadata": {},
   "source": [
    "### Conception date between single paternity and multiple paternity groups"
   ]
  },
  {
   "cell_type": "code",
   "execution_count": 91,
   "id": "014199ca",
   "metadata": {},
   "outputs": [],
   "source": [
    "%%R\n",
    "sampleData <- read.delim(\"SampleData/sampleData.tab\")\n",
    "sampleData$Luther.Mother.ID. <- sapply(sampleData$Luther.Mother.ID., function(x) {return(as.numeric(substr(x,4,5)))} )\n",
    "sampleData <- merge(sampleData, familyAssignments, by.x=\"Luther.Mother.ID.\", by.y=\"row.names\", all.x=TRUE)\n",
    "sampleDataNoNA <- sampleData%>%filter(Evd.Of.Mult.Pat != 'Unknown')"
   ]
  },
  {
   "cell_type": "code",
   "execution_count": 92,
   "id": "1fde876d",
   "metadata": {},
   "outputs": [
    {
     "name": "stdout",
     "output_type": "stream",
     "text": [
      "'data.frame':\t68 obs. of  19 variables:\n",
      " $ Luther.Mother.ID.            : num  1 2 3 4 5 6 7 8 9 10 ...\n",
      " $ Master.Deer.ID..             : int  2 3 4 5 8 9 10 13 16 29 ...\n",
      " $ Sex..M.F.                    : logi  FALSE FALSE FALSE FALSE FALSE FALSE ...\n",
      " $ Age.Estimate..previous.fall. : num  3.5 1.5 2.5 4.5 4.5 0.5 8.5 2.5 3.5 4.5 ...\n",
      " $ Tooth.taken.                 : chr  \"\" \"x\" \"x\" \"x\" ...\n",
      " $ K.Age                        : num  3.5 1.5 2.5 6.5 4.5 0.5 9.5 2.5 3.5 6.5 ...\n",
      " $ Date..mm.dd.yy.              : chr  \"03/04/13\" \"04/08/13\" \"04/08/13\" \"04/09/13\" ...\n",
      " $ County                       : chr  \"Lucas\" \"Jones\" \"Dubuque\" \"Clinton\" ...\n",
      " $ CO.Num                       : int  59 53 31 23 93 88 80 91 68 59 ...\n",
      " $ T                            : chr  \"71N\" \"84N\" \"87N\" \"80N\" ...\n",
      " $ R                            : chr  \"23W\" \"2W\" \"1W\" \"3E\" ...\n",
      " $ S                            : int  2 8 26 1 10 NA 1 20 25 32 ...\n",
      " $ Conception.Date..Julian.Days.: int  312 NA 328 319 328 NA 301 327 NA 318 ...\n",
      " $ Number.of.Fetuses            : int  2 2 2 2 3 1 2 2 2 2 ...\n",
      " $ Sex..1                       : chr  \"M\" \"F\" \"M\" \"M\" ...\n",
      " $ Sex..2                       : chr  \"M\" \"M\" \"F\" \"M\" ...\n",
      " $ Sex..3                       : chr  \"\" \"\" \"\" \"\" ...\n",
      " $ X                            : logi  NA NA NA NA NA NA ...\n",
      " $ Evd.Of.Mult.Pat              : chr  \"Unknown\" \"1\" \"Unknown\" \"0\" ...\n"
     ]
    }
   ],
   "source": [
    "%R str(sampleData)"
   ]
  },
  {
   "cell_type": "code",
   "execution_count": 93,
   "id": "591e6993",
   "metadata": {},
   "outputs": [
    {
     "data": {
      "image/png": "[encoded data removed]"
     },
     "metadata": {},
     "output_type": "display_data"
    },
    {
     "data": {
      "image/png": "[encoded data removed]"
     },
     "metadata": {},
     "output_type": "display_data"
    }
   ],
   "source": [
    "%%R\n",
    "conceptionPlot <- ggplot(data=sampleDataNoNA, aes(x=Conception.Date..Julian.Days., fill=Evd.Of.Mult.Pat, color=Evd.Of.Mult.Pat)) +\n",
    "    geom_histogram(position='identity',alpha=0.5,bins=12) +\n",
    "    geom_vline(xintercept=mean((sampleData %>% filter(Evd.Of.Mult.Pat == 1))$conception_date, na.rm=TRUE), color='#619CFF') +\n",
    "    geom_vline(xintercept=mean((sampleData %>% filter(Evd.Of.Mult.Pat == 0))$conception_date, na.rm=TRUE), color='#F8766D') +\n",
    "    theme_classic()\n",
    "print(conceptionPlot)\n",
    "conceptionPlot + scale_fill_manual(values=c(\"grey70\", \"grey10\")) + scale_color_manual(values=c(\"grey70\", \"grey10\"))"
   ]
  },
  {
   "cell_type": "code",
   "execution_count": 94,
   "id": "e5f3dca0",
   "metadata": {},
   "outputs": [
    {
     "data": {
      "image/png": "[encoded data removed]"
     },
     "metadata": {},
     "output_type": "display_data"
    }
   ],
   "source": [
    "%%R\n",
    "qplot(sample=Conception.Date..Julian.Days., data=sampleDataNoNA, color=Evd.Of.Mult.Pat) + theme_classic() + stat_qq_line()"
   ]
  },
  {
   "cell_type": "code",
   "execution_count": 102,
   "id": "16f631e4",
   "metadata": {},
   "outputs": [],
   "source": [
    "%%R \n",
    "sampleDataNoNA.noOutliers <- sampleDataNoNA %>% filter(Conception.Date..Julian.Days. < 360)"
   ]
  },
  {
   "cell_type": "code",
   "execution_count": 103,
   "id": "aa83e0bc",
   "metadata": {},
   "outputs": [
    {
     "data": {
      "image/png": "[encoded data removed]"
     },
     "metadata": {},
     "output_type": "display_data"
    }
   ],
   "source": [
    "%%R\n",
    "qplot(data=sampleDataNoNA.noOutliers, sample=Conception.Date..Julian.Days., color=Evd.Of.Mult.Pat) + theme_classic() + stat_qq_line()"
   ]
  },
  {
   "cell_type": "code",
   "execution_count": 122,
   "id": "40056024",
   "metadata": {},
   "outputs": [
    {
     "name": "stdout",
     "output_type": "stream",
     "text": [
      "\n",
      "\tShapiro-Wilk normality test\n",
      "\n",
      "data:  as.numeric(unlist(sampleDataNoNA.noOutliers %>% filter(Evd.Of.Mult.Pat == 0) %>% select(Conception.Date..Julian.Days.)))\n",
      "W = 0.97404, p-value = 0.4166\n",
      "\n"
     ]
    }
   ],
   "source": [
    "%%R\n",
    "shapiro.test(as.numeric(unlist(sampleDataNoNA.noOutliers %>% filter(Evd.Of.Mult.Pat == 0) %>% select(Conception.Date..Julian.Days.))))"
   ]
  },
  {
   "cell_type": "code",
   "execution_count": 126,
   "id": "a3b83016",
   "metadata": {},
   "outputs": [
    {
     "name": "stdout",
     "output_type": "stream",
     "text": [
      "\n",
      "\tShapiro-Wilk normality test\n",
      "\n",
      "data:  as.numeric(unlist(sampleDataNoNA.noOutliers %>% filter(Evd.Of.Mult.Pat == 1) %>% select(Conception.Date..Julian.Days.)))\n",
      "W = 0.94617, p-value = 0.6481\n",
      "\n"
     ]
    }
   ],
   "source": [
    "%%R\n",
    "shapiro.test(as.numeric(unlist(sampleDataNoNA.noOutliers %>% filter(Evd.Of.Mult.Pat == 1) %>% select(Conception.Date..Julian.Days.))))"
   ]
  },
  {
   "cell_type": "code",
   "execution_count": 128,
   "id": "001093df",
   "metadata": {},
   "outputs": [
    {
     "name": "stdout",
     "output_type": "stream",
     "text": [
      "\n",
      "\tF test to compare two variances\n",
      "\n",
      "data:  Conception.Date..Julian.Days. by Evd.Of.Mult.Pat\n",
      "F = 5.8196, num df = 43, denom df = 8, p-value = 0.01285\n",
      "alternative hypothesis: true ratio of variances is not equal to 1\n",
      "95 percent confidence interval:\n",
      "  1.520158 14.571795\n",
      "sample estimates:\n",
      "ratio of variances \n",
      "          5.819607 \n",
      "\n"
     ]
    }
   ],
   "source": [
    "%%R\n",
    "var.test(Conception.Date..Julian.Days. ~ Evd.Of.Mult.Pat, sampleDataNoNA.noOutliers, alternative = 'two.sided')"
   ]
  }
 ],
 "metadata": {
  "kernelspec": {
   "display_name": "CS150 (Python 3.10)",
   "language": "python",
   "name": "cs150"
  },
  "language_info": {
   "codemirror_mode": {
    "name": "ipython",
    "version": 3
   },
   "file_extension": ".py",
   "mimetype": "text/x-python",
   "name": "python",
   "nbconvert_exporter": "python",
   "pygments_lexer": "ipython3",
   "version": "3.10.4"
  }
 },
 "nbformat": 4,
 "nbformat_minor": 5
}
